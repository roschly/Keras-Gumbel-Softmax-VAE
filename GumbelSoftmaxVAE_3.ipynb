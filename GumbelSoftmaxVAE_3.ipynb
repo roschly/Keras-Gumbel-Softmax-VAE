{
 "cells": [
  {
   "cell_type": "markdown",
   "metadata": {},
   "source": [
    "# Introduction"
   ]
  },
  {
   "cell_type": "markdown",
   "metadata": {},
   "source": [
    "This is a GumbelSoftmax variational autoencoder (VAE) implementation in Keras. Its purpose is to explore the viability of a discrete latent representation of a simple 2D top-down game, for later use in a Reinforcement Learning agent.\n",
    "\n",
    "The theory is based on the work in the paper \"Categorical Reparameterization with Gumbel-Softmax\" (https://arxiv.org/pdf/1611.01144.pdf)\n",
    "\n",
    "With code developed from (https://github.com/EderSantana/gumbel) and (https://github.com/ericjang/gumbel-softmax)\n"
   ]
  },
  {
   "cell_type": "markdown",
   "metadata": {},
   "source": [
    "# Imports"
   ]
  },
  {
   "cell_type": "code",
   "execution_count": 2,
   "metadata": {},
   "outputs": [
    {
     "name": "stderr",
     "output_type": "stream",
     "text": [
      "C:\\Users\\Roschly\\Anaconda3\\lib\\site-packages\\h5py\\__init__.py:36: FutureWarning: Conversion of the second argument of issubdtype from `float` to `np.floating` is deprecated. In future, it will be treated as `np.float64 == np.dtype(float).type`.\n",
      "  from ._conv import register_converters as _register_converters\n",
      "Using TensorFlow backend.\n"
     ]
    },
    {
     "name": "stdout",
     "output_type": "stream",
     "text": [
      "Populating the interactive namespace from numpy and matplotlib\n"
     ]
    }
   ],
   "source": [
    "import numpy as np\n",
    "import matplotlib.pyplot as plt\n",
    "\n",
    "import keras\n",
    "from keras.layers import Input, Dense, Lambda, Conv2D, Flatten, Conv2DTranspose, Reshape, Activation\n",
    "from keras.models import Model, Sequential\n",
    "from keras import backend as K\n",
    "from keras import objectives\n",
    "from keras.datasets import mnist\n",
    "from keras.activations import softmax\n",
    "from keras.objectives import binary_crossentropy as bce\n",
    "from keras.objectives import mean_squared_error as mse\n",
    "\n",
    "\n",
    "%pylab inline"
   ]
  },
  {
   "cell_type": "markdown",
   "metadata": {},
   "source": [
    "# The Gumbel-Softmax distribution\n",
    "\n",
    "Representing discrete real world problems with categorical variables, is in obvious choice. They are however, not easy to use with models that rely on backpropagation, because of their discrete nature. As with many things in science, a sufficient approximation can be used instead.  \n",
    "The Gumbel-Softmax distribution is such an approximation. It is controlled by a temperature parameter, $ \\tau $, that interpolates between discrete one-hot encoded categorical distributions and continuous categorical densities.\n",
    "\n",
    "<img src=\"gumbel_softmax_dist.png\">\n",
    "\n",
    "The following paragraph from \"Categorical Reparameterization with Gumbel-Softmax\" (section \"2 - The Gumbel-Softmax Distribution) describes the choice of softmax and the resulting samples drawn from it:\n",
    "\n",
    "<blockquote cite=\"https://arxiv.org/pdf/1611.01144.pdf\">\n",
    "The Gumbel-Max trick (Gumbel, 1954; Maddison et al., 2014) provides a simple and efficient way to draw samples $z$ from a categorical distribution with class probabilities $\\pi$:\n",
    "\n",
    "$$ z = \\text{one_hot} \\big( \\arg\\max_i [g_i + \\log \\pi_i] \\big) $$\n",
    "\n",
    "where $g_1...g_k$ are i.i.d samples drawn from Gumbel(0,1). We use the softmax function as a continuous, differentiable approximation to arg max, and generate $k$-dimensional sample vectors $y$, where\n",
    "\n",
    "$$ y_i = \\frac{ \\exp ((\\log (\\pi_i) + g_i) / \\tau) }{ \\sum_{j=1}^{k} \\exp ((\\log (\\pi_j) + g_j) / \\tau) } \\quad \\text{for } i = 1,...,k $$\n",
    "\n",
    "</blockquote>\n",
    "\n",
    "## Loss and Sampling functions\n",
    "\n",
    "### Loss\n",
    "The loss function is comprised of two terms: the reconstruction loss and the KL divergence.\n",
    "The reconstruction loss is a measure of the difference between the original image and the reconstructed one, and in the perfect situation this would be zero (perfect reconstruction).\n",
    "\n",
    "$$ \\text{reconstruction_loss} = \\text{nr_pixels} \\times \\text{MSE}(x, \\tilde x) $$\n",
    "\n",
    "The KL divergence measures how the encoder distribution, $q(z)$, differs from the uniform prior distribution $p(z)$. This divergence serves as a regularization term, meant to force the distribution as close to a uniform distribution, without losing too much reconstruction ability. In the perfection situation, this will not reach zero, as that would indicate a random distribution, and an decoder that has learned nothing.  \n",
    "The KL divergence code is based on the following math\n",
    "\n",
    "$$ KL(q \\parallel p) = \\sum q(z) \\times \\log \\frac{q(z)}{p(z)} $$\n",
    "\n",
    "$$ KL(q \\parallel p) = \\sum q(z) \\times \\lbrack \\log q(z) - \\log p(z) \\rbrack $$\n",
    "\n",
    "$$ KL(q \\parallel p) = \\sum q(z) \\times \\lbrack \\log q(z) - \\log \\frac{1}{m} \\rbrack $$\n",
    "\n",
    "with $m$ being the number of categories in the categorical distribution.\n",
    "\n",
    "### Sampling\n",
    "The Gumbel distribution can be sampled using inverse transform sampling (see the paper this work is based on)\n",
    "$$ g = -log(-log(u)) $$ \n",
    "with $u$ sampled from a Uniform distribution\n",
    "$$ u \\sim Uniform(0,1) $$"
   ]
  },
  {
   "cell_type": "code",
   "execution_count": 3,
   "metadata": {},
   "outputs": [],
   "source": [
    "# Sample with log probabilities\n",
    "def sampling(logits_y):\n",
    "    U = K.random_uniform(K.shape(logits_y), 0, 1)\n",
    "    q_y = K.reshape(logits_y, (-1, N, M))\n",
    "    q_y = softmax(q_y)\n",
    "    log_q_y = K.log(q_y + 1e-20)\n",
    "    log_q_y = K.reshape(log_q_y, (-1, N*M))\n",
    "    y = log_q_y - K.log(-K.log(U + 1e-20) + 1e-20) # logits + gumbel noise\n",
    "    y = softmax(K.reshape(y, (-1, N, M)) / tau)\n",
    "    y = K.reshape(y, (-1, N*M))\n",
    "    return y\n",
    "\n",
    "\n",
    "def gumbel_loss(x, x_hat):\n",
    "    # calc KL divergence\n",
    "    q_y = K.reshape(logits_y, (-1, N, M)) # reshape: batches, N*M --> batches, N, M\n",
    "    q_y = softmax(q_y)\n",
    "    log_q_y = K.log(q_y + 1e-20)\n",
    "    kl_tmp = q_y * (log_q_y - K.log(1.0/M)) # 1.0/M: uniform prior, all options equally likely\n",
    "    KL = K.sum(kl_tmp, axis=(1, 2))\n",
    "    # reshape x and x_hat into vectors (required by keras)\n",
    "    x = K.reshape(x, (1,-1))\n",
    "    x_hat = K.reshape(x_hat, (1,-1))\n",
    "    # final loss\n",
    "    elbo = DATA_DIM * mse(x, x_hat) - KL\n",
    "    return elbo"
   ]
  },
  {
   "cell_type": "markdown",
   "metadata": {},
   "source": [
    "# Model\n",
    "Convolutional neural networks are used in both the encoder and decoder of the autoencoder."
   ]
  },
  {
   "cell_type": "code",
   "execution_count": 4,
   "metadata": {},
   "outputs": [],
   "source": [
    "batch_size = 64\n",
    "IMAGE_DIM = (64,64,3)\n",
    "INPUT_DIM = (64,64,3)\n",
    "DATA_DIM = 12288 # = 64x64x3\n",
    "N = 10\n",
    "M = 6\n",
    "nb_epochs = 100 #100\n",
    "epsilon_std = 0.01\n",
    "\n",
    "anneal_rate = 0.0003 # used to lower temperature during training\n",
    "max_temperature = 2.0\n",
    "min_temperature = 0.5\n",
    "\n",
    "tau = K.variable(max_temperature, name=\"temperature\")\n",
    "ACTIV = \"relu\"\n"
   ]
  },
  {
   "cell_type": "code",
   "execution_count": 5,
   "metadata": {},
   "outputs": [
    {
     "name": "stdout",
     "output_type": "stream",
     "text": [
      "_________________________________________________________________\n",
      "Layer (type)                 Output Shape              Param #   \n",
      "=================================================================\n",
      "input_1 (InputLayer)         (None, 64, 64, 3)         0         \n",
      "_________________________________________________________________\n",
      "conv2d_1 (Conv2D)            (None, 32, 32, 32)        1568      \n",
      "_________________________________________________________________\n",
      "conv2d_2 (Conv2D)            (None, 16, 16, 64)        32832     \n",
      "_________________________________________________________________\n",
      "conv2d_3 (Conv2D)            (None, 8, 8, 128)         131200    \n",
      "_________________________________________________________________\n",
      "flatten_1 (Flatten)          (None, 8192)              0         \n",
      "_________________________________________________________________\n",
      "dense_1 (Dense)              (None, 60)                491580    \n",
      "_________________________________________________________________\n",
      "lambda_1 (Lambda)            (None, 60)                0         \n",
      "_________________________________________________________________\n",
      "reshape_1 (Reshape)          (None, 1, 1, 60)          0         \n",
      "_________________________________________________________________\n",
      "conv2d_transpose_1 (Conv2DTr (None, 2, 2, 32)          30752     \n",
      "_________________________________________________________________\n",
      "conv2d_transpose_2 (Conv2DTr (None, 4, 4, 32)          16416     \n",
      "_________________________________________________________________\n",
      "conv2d_transpose_3 (Conv2DTr (None, 8, 8, 32)          16416     \n",
      "_________________________________________________________________\n",
      "conv2d_transpose_4 (Conv2DTr (None, 16, 16, 16)        8208      \n",
      "_________________________________________________________________\n",
      "conv2d_transpose_5 (Conv2DTr (None, 32, 32, 16)        4112      \n",
      "_________________________________________________________________\n",
      "conv2d_transpose_6 (Conv2DTr (None, 64, 64, 3)         771       \n",
      "=================================================================\n",
      "Total params: 733,855\n",
      "Trainable params: 733,855\n",
      "Non-trainable params: 0\n",
      "_________________________________________________________________\n"
     ]
    }
   ],
   "source": [
    "# ======= DEFINE MODEL\n",
    "\n",
    "# ENCODER\n",
    "x = Input(shape=INPUT_DIM)\n",
    "h = Conv2D(filters=32, kernel_size=4, strides=2, padding='same', activation=ACTIV)(x)\n",
    "h = Conv2D(filters=64, kernel_size=4, strides=2, padding='same', activation=ACTIV)(h)\n",
    "h = Conv2D(filters=128, kernel_size=4, strides=2, padding='same', activation=ACTIV)(h)\n",
    "h = Flatten()(h)\n",
    "\n",
    "logits_y = Dense(M*N, activation=None)(h)\n",
    "\n",
    "# SAMPLING LAYER\n",
    "z_lay = Lambda(sampling, output_shape=(M*N,))\n",
    "z = z_lay(logits_y)\n",
    "z_ = Activation(None)(z) # used for testing the output\n",
    "\n",
    "# DECODER\n",
    "z_1 = Reshape((1,1,N*M))\n",
    "z_2 = Conv2DTranspose(filters=32, kernel_size=4, strides=2, padding=\"same\", activation=ACTIV)\n",
    "z_3 = Conv2DTranspose(filters=32, kernel_size=4, strides=2, padding=\"same\", activation=ACTIV)\n",
    "z_4 = Conv2DTranspose(filters=32, kernel_size=4, strides=2, padding=\"same\", activation=ACTIV)\n",
    "z_5 = Conv2DTranspose(filters=16, kernel_size=4, strides=2, padding=\"same\", activation=ACTIV)\n",
    "z_6 = Conv2DTranspose(filters=16, kernel_size=4, strides=2, padding=\"same\", activation=ACTIV)\n",
    "x_hat = Conv2DTranspose(filters=3, kernel_size=4, strides=2, padding=\"same\", activation=\"sigmoid\")\n",
    "\n",
    "## The decoding part is used in two different models, so that it's possible to use the decoder separately afterwards\n",
    "# Decoder part of the full network\n",
    "decoded_x = x_hat(z_6(z_5(z_4(z_3(z_2(z_1( z )))))))\n",
    "\n",
    "\n",
    "# The separate decoder model, called generator\n",
    "decode_input = Input( shape=(M*N,) ) # input-layer with same dimensionality as the output from sampling layer (z)\n",
    "decoder = x_hat(z_6(z_5(z_4(z_3(z_2(z_1( decode_input ))))))) # apply previous input layer to the decoder layers\n",
    "generator = Model(decode_input, decoder)\n",
    "\n",
    "# used for testing the ouput of the different layers\n",
    "vae_test = Model(x, [decoded_x, logits_y, z_])\n",
    "\n",
    "# the final full network\n",
    "vae = Model(x, decoded_x)\n",
    "\n",
    "# Custom metrics: reconstruction loss and KL divergence\n",
    "# reconstruction loss\n",
    "def recon_loss(x, x_hat):\n",
    "    return DATA_DIM * mse(x, x_hat)\n",
    "\n",
    "# KL divergence\n",
    "def kl_div(x, x_hat):\n",
    "    q_y = K.reshape(logits_y, (-1, N, M))\n",
    "    q_y = softmax(q_y)\n",
    "    log_q_y = K.log(q_y + 1e-20)\n",
    "    kl_tmp = q_y * (log_q_y - K.log(1.0/M))\n",
    "    KL = K.sum(kl_tmp, axis=(1, 2))\n",
    "    return KL\n",
    "\n",
    "optim = keras.optimizers.Adam(lr=0.0005)\n",
    "\n",
    "vae.compile(optimizer=optim, \n",
    "            loss=gumbel_loss,\n",
    "            metrics=[recon_loss, kl_div])\n",
    "vae.summary()"
   ]
  },
  {
   "cell_type": "markdown",
   "metadata": {},
   "source": [
    "# Import data"
   ]
  },
  {
   "cell_type": "code",
   "execution_count": 6,
   "metadata": {},
   "outputs": [
    {
     "name": "stdout",
     "output_type": "stream",
     "text": [
      "(8000, 64, 64, 3) (2000, 64, 64, 3)\n"
     ]
    }
   ],
   "source": [
    "import os\n",
    "data_dir = \"world_models_data\"\n",
    "data1 = \"small_obs_data_car_racing_1.npy\"\n",
    "np_dat = np.load(os.path.join(data_dir, data1))\n",
    "np.random.shuffle(np_dat)\n",
    "\n",
    "x_train = np_dat[:8000]\n",
    "x_test = np_dat[8000:]\n",
    "print(x_train.shape, x_test.shape)"
   ]
  },
  {
   "cell_type": "markdown",
   "metadata": {},
   "source": [
    "The race car game is an OpenAI Gym environment, with the task of controlling a car along a track. The car is fixed in bottom center of the image. There are no obstacles or opponents. The difficulty lie in following the road.\n",
    "\n",
    "The states (images) have been downsampled from 96x96x3 to 64x64x3. This leaves the car as a simple red dot. But since it is fixed and the world spins aroud it, no vital information is lost by it being a simple dot."
   ]
  },
  {
   "cell_type": "code",
   "execution_count": 7,
   "metadata": {},
   "outputs": [
    {
     "data": {
      "text/plain": [
       "<matplotlib.image.AxesImage at 0x162c2488668>"
      ]
     },
     "execution_count": 7,
     "metadata": {},
     "output_type": "execute_result"
    },
    {
     "data": {
      "image/png": "[encoded data removed]",
      "text/plain": [
       "<Figure size 432x288 with 3 Axes>"
      ]
     },
     "metadata": {},
     "output_type": "display_data"
    }
   ],
   "source": [
    "# Sample images\n",
    "subplot(131)\n",
    "imshow(x_test[100])\n",
    "subplot(132)\n",
    "imshow(x_test[170])\n",
    "subplot(133)\n",
    "imshow(x_test[230])"
   ]
  },
  {
   "cell_type": "markdown",
   "metadata": {},
   "source": [
    "# Training"
   ]
  },
  {
   "cell_type": "code",
   "execution_count": 8,
   "metadata": {},
   "outputs": [
    {
     "name": "stdout",
     "output_type": "stream",
     "text": [
      "Train on 8000 samples, validate on 2000 samples\n",
      "Epoch 1/100\n",
      "3520/8000 [============>.................] - ETA: 57s - loss: 792.3888 - recon_loss: 808.4562 - kl_div: 16.0128"
     ]
    },
    {
     "ename": "KeyboardInterrupt",
     "evalue": "",
     "output_type": "error",
     "traceback": [
      "\u001b[1;31m---------------------------------------------------------------------------\u001b[0m",
      "\u001b[1;31mKeyboardInterrupt\u001b[0m                         Traceback (most recent call last)",
      "\u001b[1;32m<ipython-input-8-abe81b2f0ee7>\u001b[0m in \u001b[0;36m<module>\u001b[1;34m()\u001b[0m\n\u001b[0;32m     30\u001b[0m     \u001b[0mbatch_size\u001b[0m\u001b[1;33m=\u001b[0m\u001b[0mbatch_size\u001b[0m\u001b[1;33m,\u001b[0m\u001b[1;33m\u001b[0m\u001b[0m\n\u001b[0;32m     31\u001b[0m     \u001b[0mvalidation_data\u001b[0m\u001b[1;33m=\u001b[0m\u001b[1;33m(\u001b[0m\u001b[0mx_test\u001b[0m\u001b[1;33m,\u001b[0m \u001b[0mx_test\u001b[0m\u001b[1;33m)\u001b[0m\u001b[1;33m,\u001b[0m\u001b[1;33m\u001b[0m\u001b[0m\n\u001b[1;32m---> 32\u001b[1;33m     callbacks=[custom_callback])\n\u001b[0m",
      "\u001b[1;32m~\\Anaconda3\\lib\\site-packages\\keras\\engine\\training.py\u001b[0m in \u001b[0;36mfit\u001b[1;34m(self, x, y, batch_size, epochs, verbose, callbacks, validation_split, validation_data, shuffle, class_weight, sample_weight, initial_epoch, steps_per_epoch, validation_steps, **kwargs)\u001b[0m\n\u001b[0;32m   1035\u001b[0m                                         \u001b[0minitial_epoch\u001b[0m\u001b[1;33m=\u001b[0m\u001b[0minitial_epoch\u001b[0m\u001b[1;33m,\u001b[0m\u001b[1;33m\u001b[0m\u001b[0m\n\u001b[0;32m   1036\u001b[0m                                         \u001b[0msteps_per_epoch\u001b[0m\u001b[1;33m=\u001b[0m\u001b[0msteps_per_epoch\u001b[0m\u001b[1;33m,\u001b[0m\u001b[1;33m\u001b[0m\u001b[0m\n\u001b[1;32m-> 1037\u001b[1;33m                                         validation_steps=validation_steps)\n\u001b[0m\u001b[0;32m   1038\u001b[0m \u001b[1;33m\u001b[0m\u001b[0m\n\u001b[0;32m   1039\u001b[0m     def evaluate(self, x=None, y=None,\n",
      "\u001b[1;32m~\\Anaconda3\\lib\\site-packages\\keras\\engine\\training_arrays.py\u001b[0m in \u001b[0;36mfit_loop\u001b[1;34m(model, f, ins, out_labels, batch_size, epochs, verbose, callbacks, val_f, val_ins, shuffle, callback_metrics, initial_epoch, steps_per_epoch, validation_steps)\u001b[0m\n\u001b[0;32m    197\u001b[0m                     \u001b[0mins_batch\u001b[0m\u001b[1;33m[\u001b[0m\u001b[0mi\u001b[0m\u001b[1;33m]\u001b[0m \u001b[1;33m=\u001b[0m \u001b[0mins_batch\u001b[0m\u001b[1;33m[\u001b[0m\u001b[0mi\u001b[0m\u001b[1;33m]\u001b[0m\u001b[1;33m.\u001b[0m\u001b[0mtoarray\u001b[0m\u001b[1;33m(\u001b[0m\u001b[1;33m)\u001b[0m\u001b[1;33m\u001b[0m\u001b[0m\n\u001b[0;32m    198\u001b[0m \u001b[1;33m\u001b[0m\u001b[0m\n\u001b[1;32m--> 199\u001b[1;33m                 \u001b[0mouts\u001b[0m \u001b[1;33m=\u001b[0m \u001b[0mf\u001b[0m\u001b[1;33m(\u001b[0m\u001b[0mins_batch\u001b[0m\u001b[1;33m)\u001b[0m\u001b[1;33m\u001b[0m\u001b[0m\n\u001b[0m\u001b[0;32m    200\u001b[0m                 \u001b[0mouts\u001b[0m \u001b[1;33m=\u001b[0m \u001b[0mto_list\u001b[0m\u001b[1;33m(\u001b[0m\u001b[0mouts\u001b[0m\u001b[1;33m)\u001b[0m\u001b[1;33m\u001b[0m\u001b[0m\n\u001b[0;32m    201\u001b[0m                 \u001b[1;32mfor\u001b[0m \u001b[0ml\u001b[0m\u001b[1;33m,\u001b[0m \u001b[0mo\u001b[0m \u001b[1;32min\u001b[0m \u001b[0mzip\u001b[0m\u001b[1;33m(\u001b[0m\u001b[0mout_labels\u001b[0m\u001b[1;33m,\u001b[0m \u001b[0mouts\u001b[0m\u001b[1;33m)\u001b[0m\u001b[1;33m:\u001b[0m\u001b[1;33m\u001b[0m\u001b[0m\n",
      "\u001b[1;32m~\\Anaconda3\\lib\\site-packages\\keras\\backend\\tensorflow_backend.py\u001b[0m in \u001b[0;36m__call__\u001b[1;34m(self, inputs)\u001b[0m\n\u001b[0;32m   2664\u001b[0m                 \u001b[1;32mreturn\u001b[0m \u001b[0mself\u001b[0m\u001b[1;33m.\u001b[0m\u001b[0m_legacy_call\u001b[0m\u001b[1;33m(\u001b[0m\u001b[0minputs\u001b[0m\u001b[1;33m)\u001b[0m\u001b[1;33m\u001b[0m\u001b[0m\n\u001b[0;32m   2665\u001b[0m \u001b[1;33m\u001b[0m\u001b[0m\n\u001b[1;32m-> 2666\u001b[1;33m             \u001b[1;32mreturn\u001b[0m \u001b[0mself\u001b[0m\u001b[1;33m.\u001b[0m\u001b[0m_call\u001b[0m\u001b[1;33m(\u001b[0m\u001b[0minputs\u001b[0m\u001b[1;33m)\u001b[0m\u001b[1;33m\u001b[0m\u001b[0m\n\u001b[0m\u001b[0;32m   2667\u001b[0m         \u001b[1;32melse\u001b[0m\u001b[1;33m:\u001b[0m\u001b[1;33m\u001b[0m\u001b[0m\n\u001b[0;32m   2668\u001b[0m             \u001b[1;32mif\u001b[0m \u001b[0mpy_any\u001b[0m\u001b[1;33m(\u001b[0m\u001b[0mis_tensor\u001b[0m\u001b[1;33m(\u001b[0m\u001b[0mx\u001b[0m\u001b[1;33m)\u001b[0m \u001b[1;32mfor\u001b[0m \u001b[0mx\u001b[0m \u001b[1;32min\u001b[0m \u001b[0minputs\u001b[0m\u001b[1;33m)\u001b[0m\u001b[1;33m:\u001b[0m\u001b[1;33m\u001b[0m\u001b[0m\n",
      "\u001b[1;32m~\\Anaconda3\\lib\\site-packages\\keras\\backend\\tensorflow_backend.py\u001b[0m in \u001b[0;36m_call\u001b[1;34m(self, inputs)\u001b[0m\n\u001b[0;32m   2634\u001b[0m                                 \u001b[0msymbol_vals\u001b[0m\u001b[1;33m,\u001b[0m\u001b[1;33m\u001b[0m\u001b[0m\n\u001b[0;32m   2635\u001b[0m                                 session)\n\u001b[1;32m-> 2636\u001b[1;33m         \u001b[0mfetched\u001b[0m \u001b[1;33m=\u001b[0m \u001b[0mself\u001b[0m\u001b[1;33m.\u001b[0m\u001b[0m_callable_fn\u001b[0m\u001b[1;33m(\u001b[0m\u001b[1;33m*\u001b[0m\u001b[0marray_vals\u001b[0m\u001b[1;33m)\u001b[0m\u001b[1;33m\u001b[0m\u001b[0m\n\u001b[0m\u001b[0;32m   2637\u001b[0m         \u001b[1;32mreturn\u001b[0m \u001b[0mfetched\u001b[0m\u001b[1;33m[\u001b[0m\u001b[1;33m:\u001b[0m\u001b[0mlen\u001b[0m\u001b[1;33m(\u001b[0m\u001b[0mself\u001b[0m\u001b[1;33m.\u001b[0m\u001b[0moutputs\u001b[0m\u001b[1;33m)\u001b[0m\u001b[1;33m]\u001b[0m\u001b[1;33m\u001b[0m\u001b[0m\n\u001b[0;32m   2638\u001b[0m \u001b[1;33m\u001b[0m\u001b[0m\n",
      "\u001b[1;32m~\\Anaconda3\\lib\\site-packages\\tensorflow\\python\\client\\session.py\u001b[0m in \u001b[0;36m__call__\u001b[1;34m(self, *args, **kwargs)\u001b[0m\n\u001b[0;32m   1380\u001b[0m           ret = tf_session.TF_SessionRunCallable(\n\u001b[0;32m   1381\u001b[0m               \u001b[0mself\u001b[0m\u001b[1;33m.\u001b[0m\u001b[0m_session\u001b[0m\u001b[1;33m.\u001b[0m\u001b[0m_session\u001b[0m\u001b[1;33m,\u001b[0m \u001b[0mself\u001b[0m\u001b[1;33m.\u001b[0m\u001b[0m_handle\u001b[0m\u001b[1;33m,\u001b[0m \u001b[0margs\u001b[0m\u001b[1;33m,\u001b[0m \u001b[0mstatus\u001b[0m\u001b[1;33m,\u001b[0m\u001b[1;33m\u001b[0m\u001b[0m\n\u001b[1;32m-> 1382\u001b[1;33m               run_metadata_ptr)\n\u001b[0m\u001b[0;32m   1383\u001b[0m         \u001b[1;32mif\u001b[0m \u001b[0mrun_metadata\u001b[0m\u001b[1;33m:\u001b[0m\u001b[1;33m\u001b[0m\u001b[0m\n\u001b[0;32m   1384\u001b[0m           \u001b[0mproto_data\u001b[0m \u001b[1;33m=\u001b[0m \u001b[0mtf_session\u001b[0m\u001b[1;33m.\u001b[0m\u001b[0mTF_GetBuffer\u001b[0m\u001b[1;33m(\u001b[0m\u001b[0mrun_metadata_ptr\u001b[0m\u001b[1;33m)\u001b[0m\u001b[1;33m\u001b[0m\u001b[0m\n",
      "\u001b[1;31mKeyboardInterrupt\u001b[0m: "
     ]
    }
   ],
   "source": [
    "# Callback for keras training\n",
    "class CustomCallback(keras.callbacks.Callback):\n",
    "    def on_train_begin(self, logs={}):\n",
    "        self.taus = []\n",
    "        self.kls = []\n",
    "\n",
    "    # update temperature after each epoch\n",
    "    def on_epoch_end(self, epoch, logs=None):\n",
    "#         K.set_value(tau, np.max([K.get_value(tau) * np.exp(- anneal_rate * epoch), min_temperature]))\n",
    "        K.set_value(tau, get_temp(max_temperature, min_temperature, nb_epochs, epoch))\n",
    "        self.taus.append( K.get_value(tau) )\n",
    "    \n",
    "    # save the KL divergence after each batch\n",
    "    def on_batch_end(self, batch, logs=None):\n",
    "        self.kls.append( logs[\"kl_div\"] )\n",
    "\n",
    "        \n",
    "# Evenly spaced temperatures between max and min temperature\n",
    "def get_temp(max_tau, min_tau, nb_points, point):\n",
    "    # TODO: wasteful to call linspace everytime, but just convenient during development (because nb_epochs changes)\n",
    "    return np.linspace(max_tau, min_tau, nb_points)[point]\n",
    "\n",
    "\n",
    "# Will contain list of temperature/tau values used during training\n",
    "custom_callback = CustomCallback()\n",
    "\n",
    "train_info = vae.fit(x_train, x_train, \n",
    "    shuffle=True, \n",
    "    epochs=nb_epochs, \n",
    "    batch_size=batch_size,\n",
    "    validation_data=(x_test, x_test),\n",
    "    callbacks=[custom_callback])"
   ]
  },
  {
   "cell_type": "code",
   "execution_count": 11,
   "metadata": {
    "scrolled": false
   },
   "outputs": [
    {
     "data": {
      "image/png": "[encoded data removed]",
      "text/plain": [
       "<matplotlib.figure.Figure at 0x1cb0d91bb38>"
      ]
     },
     "metadata": {},
     "output_type": "display_data"
    },
    {
     "data": {
      "image/png": "[encoded data removed]",
      "text/plain": [
       "<matplotlib.figure.Figure at 0x1cb0d945400>"
      ]
     },
     "metadata": {},
     "output_type": "display_data"
    },
    {
     "data": {
      "image/png": "[encoded data removed]",
      "text/plain": [
       "<matplotlib.figure.Figure at 0x1cb3e141dd8>"
      ]
     },
     "metadata": {},
     "output_type": "display_data"
    }
   ],
   "source": [
    "# extract the different metrics\n",
    "np_loss = np.asarray(train_info.history[\"loss\"])\n",
    "np_val_loss = np.asarray(train_info.history[\"val_loss\"])\n",
    "np_recon_loss = np.asarray(train_info.history[\"recon_loss\"])\n",
    "np_kl_div = np.asarray(train_info.history[\"kl_div\"])\n",
    "\n",
    "# Training vs validation loss\n",
    "t = range(nb_epochs)\n",
    "plt.plot(t, np_loss, 'b-', label=\"train\") \n",
    "plt.plot(t, np_val_loss, 'r-', label=\"val\")\n",
    "plt.title(\"Training vs Validation loss\")\n",
    "plt.xlabel(\"epochs\")\n",
    "plt.ylabel(\"loss\")\n",
    "plt.legend(loc='upper right')\n",
    "plt.show()\n",
    "\n",
    "# Temperature vs Loss\n",
    "t = custom_callback.taus\n",
    "plt.plot(np_loss, t, 'b-', label=\"train\") \n",
    "plt.title(\"Temperature vs Loss\")\n",
    "plt.xlabel(\"loss\")\n",
    "plt.ylabel(\"temperature\")\n",
    "plt.show()\n",
    "\n",
    "# KL divergence in the first couple of batches\n",
    "t = range(100)\n",
    "plt.plot(t, custom_callback.kls[:100], 'b-', label=\"Reconstruction\") \n",
    "plt.title(\"KL divergence in the first batches\")\n",
    "plt.xlabel(\"batches\")\n",
    "plt.ylabel(\"KL div\")\n",
    "plt.show()\n",
    "\n",
    "\n"
   ]
  },
  {
   "cell_type": "markdown",
   "metadata": {},
   "source": [
    "The KL divergence quickly stabilizes, probably because of the simple nature of the problem. It has stabilized already within the first epoch!"
   ]
  },
  {
   "cell_type": "markdown",
   "metadata": {},
   "source": [
    "## Save model weights"
   ]
  },
  {
   "cell_type": "code",
   "execution_count": 13,
   "metadata": {},
   "outputs": [],
   "source": [
    "# vae.save_weights('model_vae_weights.h5')"
   ]
  },
  {
   "cell_type": "markdown",
   "metadata": {},
   "source": [
    "## Load model weights"
   ]
  },
  {
   "cell_type": "code",
   "execution_count": 13,
   "metadata": {},
   "outputs": [],
   "source": [
    "# vae.load_weights('model_vae_weights.h5')"
   ]
  },
  {
   "cell_type": "markdown",
   "metadata": {},
   "source": [
    "# Visualize results"
   ]
  },
  {
   "cell_type": "code",
   "execution_count": 64,
   "metadata": {},
   "outputs": [
    {
     "data": {
      "text/plain": [
       "(<matplotlib.image.AxesImage at 0x17a0ab3f7b8>, (-0.5, 63.5, 63.5, -0.5))"
      ]
     },
     "execution_count": 64,
     "metadata": {},
     "output_type": "execute_result"
    },
    {
     "data": {
      "image/png": "[encoded data removed]",
      "text/plain": [
       "<matplotlib.figure.Figure at 0x17c2bdd0240>"
      ]
     },
     "metadata": {},
     "output_type": "display_data"
    }
   ],
   "source": [
    "test_idx = 180 # interesting images in the range: 160-190\n",
    "_batch = 300\n",
    "\n",
    "# get reconstructions, logits and sampled codes from a batch of the test set\n",
    "_x_hat, _logits, _z = vae_test.predict(x_test[:_batch])\n",
    "\n",
    "subplot(131)\n",
    "title(\"Input image\")\n",
    "imshow(x_test[test_idx].reshape(IMAGE_DIM), cmap='gray'), axis('off')\n",
    "\n",
    "subplot(132)\n",
    "title(\"sampled code\")\n",
    "imshow(_z[test_idx].reshape(N, M), cmap='gray'), axis('off')\n",
    "\n",
    "subplot(133)\n",
    "title(\"reconstruction\")\n",
    "imshow(_x_hat[test_idx].reshape(IMAGE_DIM), cmap='gray'), axis('off')"
   ]
  },
  {
   "cell_type": "markdown",
   "metadata": {},
   "source": [
    "The GumbelSoftmax approximation to a categorical distribution, is just that, an approximation. This means the sampled code will not always be categorical, i.e. more than one non-black field in each line. Executing the above cell multiple times can reveal this (depending on the trained network). Additionally, since the code is sampled it can also change slightly from execution to execution."
   ]
  },
  {
   "cell_type": "markdown",
   "metadata": {},
   "source": [
    "## Reconstructions"
   ]
  },
  {
   "cell_type": "code",
   "execution_count": 65,
   "metadata": {},
   "outputs": [
    {
     "name": "stdout",
     "output_type": "stream",
     "text": [
      "Top: Input images\n",
      "Bottom: Reconstructions\n"
     ]
    },
    {
     "data": {
      "image/png": "[encoded data removed]",
      "text/plain": [
       "<matplotlib.figure.Figure at 0x17c2ba5fac8>"
      ]
     },
     "metadata": {},
     "output_type": "display_data"
    }
   ],
   "source": [
    "from matplotlib.pyplot import figure\n",
    "fig = figure(num=None, figsize=(8, 2), dpi=80, facecolor='w', edgecolor='k')\n",
    "\n",
    "from matplotlib.pyplot import subplots_adjust\n",
    "subplots_adjust(wspace = 0.5, hspace=0)\n",
    "\n",
    "diverse_obs = [230, 200, 175, 170, 160, 100, 10]\n",
    "\n",
    "# COLUMN WISE\n",
    "rows = 2\n",
    "cols = len(diverse_obs)\n",
    "\n",
    "print(\"Top: Input images\\nBottom: Reconstructions\")\n",
    "for i, obs in enumerate(diverse_obs):\n",
    "    i += 1\n",
    "    subplot( rows, cols, i )\n",
    "    imshow(x_test[obs].reshape(IMAGE_DIM), cmap='gray'), axis('off')\n",
    "    \n",
    "    subplot( rows, cols, i+cols )\n",
    "    img_true = generator.predict(np.reshape(_z[obs], (1,-1)) )\n",
    "    imshow(img_true.reshape(IMAGE_DIM), cmap='gray'), axis('off')\n",
    "\n",
    "\n"
   ]
  },
  {
   "cell_type": "markdown",
   "metadata": {},
   "source": [
    "The reconstructions, although blurry, capture the essence of road curvature. Enough for an agent to conceiviably learn to stay on the road. "
   ]
  },
  {
   "cell_type": "markdown",
   "metadata": {},
   "source": [
    "# Interactive sample\n",
    "This contains sliders to manipulate a categorical sample, used to immediately generate a sample output image. Used for interactively exploring the latent representation (code)."
   ]
  },
  {
   "cell_type": "code",
   "execution_count": 66,
   "metadata": {
    "scrolled": false
   },
   "outputs": [
    {
     "data": {
      "application/vnd.jupyter.widget-view+json": {
       "model_id": "ab1720e593c848f090bd56cdb610c536",
       "version_major": 2,
       "version_minor": 0
      },
      "text/plain": [
       "interactive(children=(IntSlider(value=3, continuous_update=False, description='z5', max=5), IntSlider(value=3,…"
      ]
     },
     "metadata": {},
     "output_type": "display_data"
    }
   ],
   "source": [
    "%matplotlib inline\n",
    "from ipywidgets import interactive\n",
    "from ipywidgets import widgets\n",
    "from IPython.display import display\n",
    "img_code = np.zeros( (N,M) ) # init code image\n",
    "\n",
    "# The interactive function requires a widget element (slider) be assigned as a keyword argument, \n",
    "# matching the keyword parameters of the \"f\" function.\n",
    "# That is the reason for the rather unintuitive function declaration \"f\" and building the kw_dict (keyword dictionary)\n",
    "\n",
    "def f(*args,**kwargs):\n",
    "    for i, key in enumerate(kwargs):\n",
    "        zero_row = np.zeros((1,M))\n",
    "        zero_row[0, kwargs[key] ] = 1\n",
    "        img_code[i] = zero_row\n",
    "    \n",
    "    plt.subplot(121)\n",
    "    plt.imshow(img_code, cmap=\"gray\")\n",
    "    \n",
    "    plt.subplot(122)\n",
    "    img_binary = generator.predict(np.reshape(img_code, (1,-1)) )\n",
    "    plt.imshow(img_binary.reshape(IMAGE_DIM), cmap='gray')\n",
    "    plt.axis('off')\n",
    "\n",
    "\n",
    "kw_dict = {}\n",
    "for n in range(N):\n",
    "    kw_dict[\"z\"+str(n)] = widgets.IntSlider(description=\"z\"+str(n), min=0, max=(M-1), value=int(M/2), continuous_update=False)\n",
    "\n",
    "interactive_plot = interactive(f, **kw_dict)\n",
    "output = interactive_plot.children[-1]\n",
    "output.layout.height = '350px'\n",
    "interactive_plot"
   ]
  },
  {
   "cell_type": "markdown",
   "metadata": {},
   "source": [
    "It is clear from manipulating the individual sliders, that they are hard to interpret on their own. There is no disentangled representation, where each slider would represent a concept, like curvature of the road or similar.\n",
    "It is also clear that there are many non-meaningful states (combinations of slider values). But since the reconstructions from earlier look sufficient for learning the environment, is suggests that the number of necessary states is a very small subset of the possible $N \\times M$ states.\n"
   ]
  },
  {
   "cell_type": "markdown",
   "metadata": {},
   "source": [
    "# Conclusion\n",
    "\n",
    "Using the GumbelSoftmax approach, with the decreasing temperature parameter, can produce a (very) close to categorical distribution over the latent state. And with what appears to be sufficient reconstructions of the input images.\n",
    "The assumption is that a discrete state representation, as opposed to a continuous one, is easier for a reinforcement learning agent to learn. This will be explored in the following notebook:  \n",
    "name link"
   ]
  }
 ],
 "metadata": {
  "kernelspec": {
   "display_name": "Python 3",
   "language": "python",
   "name": "python3"
  },
  "language_info": {
   "codemirror_mode": {
    "name": "ipython",
    "version": 3
   },
   "file_extension": ".py",
   "mimetype": "text/x-python",
   "name": "python",
   "nbconvert_exporter": "python",
   "pygments_lexer": "ipython3",
   "version": "3.6.5"
  }
 },
 "nbformat": 4,
 "nbformat_minor": 1
}
