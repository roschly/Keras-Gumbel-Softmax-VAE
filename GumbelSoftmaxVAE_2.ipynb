{
 "cells": [
  {
   "cell_type": "markdown",
   "metadata": {},
   "source": [
    "# Imports"
   ]
  },
  {
   "cell_type": "code",
   "execution_count": 1,
   "metadata": {},
   "outputs": [
    {
     "name": "stderr",
     "output_type": "stream",
     "text": [
      "Using TensorFlow backend.\n"
     ]
    },
    {
     "name": "stdout",
     "output_type": "stream",
     "text": [
      "Populating the interactive namespace from numpy and matplotlib\n"
     ]
    }
   ],
   "source": [
    "import numpy as np\n",
    "import matplotlib.pyplot as plt\n",
    "\n",
    "import keras\n",
    "from keras.layers import Input, Dense, Lambda, Conv2D, Flatten, Conv2DTranspose, Reshape, Activation\n",
    "from keras.models import Model, Sequential\n",
    "from keras import backend as K\n",
    "from keras import objectives\n",
    "from keras.datasets import mnist\n",
    "from keras.activations import softmax\n",
    "from keras.objectives import binary_crossentropy as bce\n",
    "from keras.objectives import mean_squared_error as mse\n",
    "\n",
    "\n",
    "%pylab inline"
   ]
  },
  {
   "cell_type": "markdown",
   "metadata": {},
   "source": [
    "# Model"
   ]
  },
  {
   "cell_type": "code",
   "execution_count": 108,
   "metadata": {},
   "outputs": [],
   "source": [
    "def sampling(logits_y):\n",
    "    U = K.random_uniform(K.shape(logits_y), 0, 1)\n",
    "    y = logits_y - K.log(-K.log(U + 1e-20) + 1e-20) # logits + gumbel noise\n",
    "    y = softmax(K.reshape(y, (-1, N, M)) / tau)\n",
    "    y = K.reshape(y, (-1, N*M))\n",
    "    return y\n",
    "\n",
    "def gumbel_loss(x, x_hat):\n",
    "    # calc KL divergence\n",
    "    q_y = K.reshape(logits_y, (-1, N, M))\n",
    "    q_y = softmax(q_y)\n",
    "    log_q_y = K.log(q_y + 1e-20)\n",
    "    kl_tmp = q_y * (log_q_y - K.log(1.0/M))\n",
    "    KL = K.sum(kl_tmp, axis=(1, 2))\n",
    "    # \n",
    "    x = K.reshape(x, (1,-1))\n",
    "    x_hat = K.reshape(x_hat, (1,-1))\n",
    "#     elbo = DATA_DIM * bce(x, x_hat) - KL\n",
    "    elbo = DATA_DIM * mse(x, x_hat) - KL\n",
    "    return elbo"
   ]
  },
  {
   "cell_type": "code",
   "execution_count": 70,
   "metadata": {},
   "outputs": [],
   "source": [
    "batch_size = 100\n",
    "DATA_DIM = 784\n",
    "M = 15\n",
    "N = 10\n",
    "nb_epochs = 30 #100\n",
    "epsilon_std = 0.01\n",
    "\n",
    "anneal_rate = 0.0003\n",
    "min_temperature = 0.5"
   ]
  },
  {
   "cell_type": "code",
   "execution_count": 71,
   "metadata": {},
   "outputs": [
    {
     "name": "stdout",
     "output_type": "stream",
     "text": [
      "_________________________________________________________________\n",
      "Layer (type)                 Output Shape              Param #   \n",
      "=================================================================\n",
      "input_31 (InputLayer)        (None, 784)               0         \n",
      "_________________________________________________________________\n",
      "dense_26 (Dense)             (None, 512)               401920    \n",
      "_________________________________________________________________\n",
      "dense_25 (Dense)             (None, 256)               131328    \n",
      "_________________________________________________________________\n",
      "logits_y (Dense)             (None, 150)               38550     \n",
      "_________________________________________________________________\n",
      "lambda_17 (Lambda)           (None, 150)               0         \n",
      "_________________________________________________________________\n",
      "sequential_5 (Sequential)    (None, 784)               572432    \n",
      "=================================================================\n",
      "Total params: 1,144,230\n",
      "Trainable params: 1,144,230\n",
      "Non-trainable params: 0\n",
      "_________________________________________________________________\n"
     ]
    }
   ],
   "source": [
    "\n",
    "tau = K.variable(5.0, name=\"temperature\")\n",
    "# tau = K.variable(2.5, name=\"temperature\")\n",
    "\n",
    "# x = Input(batch_shape=(batch_size, DATA_DIM))\n",
    "x = Input(shape=( 784, ))\n",
    "h = Dense(256, activation='relu')(Dense(512, activation='relu')(x))\n",
    "logits_y = Dense(M*N, activation='relu', name=\"logits_y\")(h)\n",
    "\n",
    "# z = Lambda(sampling, output_shape=(M*N,))(logits_y)\n",
    "\n",
    "z_lay = Lambda(sampling, output_shape=(M*N,))\n",
    "z = z_lay(logits_y)\n",
    "z_ = Activation(None)(z)\n",
    "generator = Sequential()\n",
    "generator.add(Dense(256, activation='relu', input_shape=(N*M, )))\n",
    "generator.add(Dense(512, activation='relu'))\n",
    "generator.add(Dense(DATA_DIM, activation='sigmoid'))\n",
    "x_hat = generator(z)\n",
    "\n",
    "# x_hat = Dense(data_dim, activation='softmax')(Dense(512, activation='relu')(Dense(256, activation='relu')(z)))\n",
    "\n",
    "vae = Model(x, x_hat)\n",
    "vae_test = Model(x, [x_hat, logits_y, z_])\n",
    "\n",
    "vae.compile(optimizer='adam', loss=gumbel_loss)\n",
    "vae.summary()"
   ]
  },
  {
   "cell_type": "markdown",
   "metadata": {},
   "source": [
    "# Model 2"
   ]
  },
  {
   "cell_type": "code",
   "execution_count": 128,
   "metadata": {
    "scrolled": false
   },
   "outputs": [
    {
     "name": "stdout",
     "output_type": "stream",
     "text": [
      "_________________________________________________________________\n",
      "Layer (type)                 Output Shape              Param #   \n",
      "=================================================================\n",
      "input_37 (InputLayer)        (None, 28, 28, 1)         0         \n",
      "_________________________________________________________________\n",
      "conv2d_55 (Conv2D)           (None, 14, 14, 32)        544       \n",
      "_________________________________________________________________\n",
      "conv2d_56 (Conv2D)           (None, 7, 7, 64)          32832     \n",
      "_________________________________________________________________\n",
      "flatten_19 (Flatten)         (None, 3136)              0         \n",
      "_________________________________________________________________\n",
      "dense_19 (Dense)             (None, 294)               922278    \n",
      "_________________________________________________________________\n",
      "lambda_19 (Lambda)           (None, 294)               0         \n",
      "_________________________________________________________________\n",
      "reshape_19 (Reshape)         (None, 7, 7, 6)           0         \n",
      "_________________________________________________________________\n",
      "conv2d_transpose_37 (Conv2DT (None, 14, 14, 32)        800       \n",
      "_________________________________________________________________\n",
      "conv2d_transpose_38 (Conv2DT (None, 28, 28, 16)        8208      \n",
      "_________________________________________________________________\n",
      "conv2d_57 (Conv2D)           (None, 28, 28, 1)         257       \n",
      "=================================================================\n",
      "Total params: 964,919\n",
      "Trainable params: 964,919\n",
      "Non-trainable params: 0\n",
      "_________________________________________________________________\n"
     ]
    }
   ],
   "source": [
    "batch_size = 64\n",
    "IMAGE_DIM = (28,28)\n",
    "INPUT_DIM = (28,28,1)\n",
    "DATA_DIM = 784 # MNIST: 28x28x1\n",
    "M = 7 #10\n",
    "N = 42 #30\n",
    "nb_epochs = 50 #100\n",
    "epsilon_std = 0.01\n",
    "\n",
    "anneal_rate = 0.0003\n",
    "max_temperature = 5.0\n",
    "min_temperature = 0.5\n",
    "\n",
    "tau = K.variable(max_temp, name=\"temperature\")\n",
    "ACTIV = \"relu\"\n",
    "\n",
    "\n",
    "# ======= DEFINE MODEL\n",
    "x = Input(shape=INPUT_DIM)\n",
    "h = Conv2D(filters=32, kernel_size=4, strides=2, padding='same', activation=ACTIV)(x)\n",
    "h = Conv2D(filters=64, kernel_size=4, strides=2, padding='same', activation=ACTIV)(h)\n",
    "h = Flatten()(h)\n",
    "\n",
    "logits_y = Dense(M*N, activation=None)(h)\n",
    "\n",
    "z_lay = Lambda(sampling, output_shape=(M*N,))\n",
    "z = z_lay(logits_y)\n",
    "z_ = Activation(None)(z)\n",
    "\n",
    "z_dec = Reshape( (M,M,-1), input_shape=(N*M,) )\n",
    "z_h = Conv2DTranspose(filters=32, kernel_size=2, strides=2, padding=\"same\", activation=ACTIV)\n",
    "z_h2 = Conv2DTranspose(filters=16, kernel_size=4, strides=2, padding=\"same\", activation=ACTIV)\n",
    "x_hat = Conv2D(filters=1, kernel_size=4, strides=1, padding=\"same\", activation=\"sigmoid\")\n",
    "# x_hat = Conv2DTranspose(filters=1, kernel_size=3, strides=2, padding=\"same\", activation=\"sigmoid\")\n",
    "\n",
    "decoded_x = x_hat(z_h2(z_h(z_dec( z ))))\n",
    "\n",
    "decode_input = Input( shape=(M*N,) )\n",
    "decoder = x_hat(z_h2(z_h(z_dec( decode_input ))))\n",
    "generator = Model(decode_input, decoder)\n",
    "\n",
    "\n",
    "vae_test = Model(x, [decoded_x, logits_y, z_])\n",
    "vae = Model(x, decoded_x)\n",
    "\n",
    "# reconstruction loss\n",
    "def recon_loss(x, x_hat):\n",
    "    return DATA_DIM * mse(x, x_hat)\n",
    "\n",
    "# KL divergence\n",
    "def kl_div(x, x_hat):\n",
    "    q_y = K.reshape(logits_y, (-1, N, M))\n",
    "    q_y = softmax(q_y)\n",
    "    log_q_y = K.log(q_y + 1e-20)\n",
    "    kl_tmp = q_y * (log_q_y - K.log(1.0/M))\n",
    "    KL = K.sum(kl_tmp, axis=(1, 2))\n",
    "    return KL\n",
    "\n",
    "\n",
    "vae.compile(optimizer='adam', \n",
    "            loss=gumbel_loss,\n",
    "            metrics=[recon_loss, kl_div])\n",
    "vae.summary()"
   ]
  },
  {
   "cell_type": "markdown",
   "metadata": {},
   "source": [
    "# Model 3"
   ]
  },
  {
   "cell_type": "code",
   "execution_count": 149,
   "metadata": {},
   "outputs": [],
   "source": [
    "batch_size = 64\n",
    "IMAGE_DIM = (64,64,3)\n",
    "INPUT_DIM = (64,64,3)\n",
    "DATA_DIM = 12288 # MNIST: 28x28x1\n",
    "M = 6\n",
    "N = 10\n",
    "nb_epochs = 50 #100\n",
    "epsilon_std = 0.01\n",
    "\n",
    "anneal_rate = 0.0003\n",
    "min_temperature = 0.5"
   ]
  },
  {
   "cell_type": "code",
   "execution_count": 150,
   "metadata": {},
   "outputs": [
    {
     "name": "stdout",
     "output_type": "stream",
     "text": [
      "_________________________________________________________________\n",
      "Layer (type)                 Output Shape              Param #   \n",
      "=================================================================\n",
      "input_9 (InputLayer)         (None, 64, 64, 3)         0         \n",
      "_________________________________________________________________\n",
      "conv2d_9 (Conv2D)            (None, 32, 32, 32)        1568      \n",
      "_________________________________________________________________\n",
      "conv2d_10 (Conv2D)           (None, 16, 16, 64)        32832     \n",
      "_________________________________________________________________\n",
      "flatten_5 (Flatten)          (None, 16384)             0         \n",
      "_________________________________________________________________\n",
      "dense_5 (Dense)              (None, 60)                983100    \n",
      "_________________________________________________________________\n",
      "lambda_5 (Lambda)            (None, 60)                0         \n",
      "_________________________________________________________________\n",
      "reshape_5 (Reshape)          (None, 1, 1, 60)          0         \n",
      "_________________________________________________________________\n",
      "conv2d_transpose_21 (Conv2DT (None, 2, 2, 32)          30752     \n",
      "_________________________________________________________________\n",
      "conv2d_transpose_22 (Conv2DT (None, 4, 4, 32)          16416     \n",
      "_________________________________________________________________\n",
      "conv2d_transpose_23 (Conv2DT (None, 8, 8, 16)          8208      \n",
      "_________________________________________________________________\n",
      "conv2d_transpose_24 (Conv2DT (None, 32, 32, 16)        4112      \n",
      "_________________________________________________________________\n",
      "conv2d_transpose_25 (Conv2DT (None, 64, 64, 3)         771       \n",
      "=================================================================\n",
      "Total params: 1,077,759\n",
      "Trainable params: 1,077,759\n",
      "Non-trainable params: 0\n",
      "_________________________________________________________________\n"
     ]
    }
   ],
   "source": [
    "tau = K.variable(5.0, name=\"temperature\")\n",
    "ACTIV = \"relu\"\n",
    "\n",
    "# x = Input(batch_shape=(batch_size, data_dim ))\n",
    "x = Input(shape=INPUT_DIM)\n",
    "# h = Dense(256, activation='relu')(Dense(512, activation='relu')(x))\n",
    "h = Conv2D(filters=32, kernel_size=4, strides=2, padding='same', activation=ACTIV)(x)\n",
    "h = Conv2D(filters=64, kernel_size=4, strides=2, padding='same', activation=ACTIV)(h)\n",
    "# h = Conv2D(filters=64, kernel_size=3, strides=2, padding='valid', activation=ACTIV)(h)\n",
    "h = Flatten()(h)\n",
    "\n",
    "logits_y = Dense(M*N, activation=None)(h)\n",
    "\n",
    "# z = Lambda(sampling, output_shape=(M*N,))(logits_y)\n",
    "z_lay = Lambda(sampling, output_shape=(M*N,))\n",
    "z = z_lay(logits_y)\n",
    "z_ = Activation(None)(z)\n",
    "\n",
    "# z = Reshape((1,1,N*M))(z)\n",
    "# z = Conv2DTranspose(filters=32, kernel_size=6, strides=4, padding=\"same\")(z)\n",
    "# z = Conv2DTranspose(filters=32, kernel_size=3, strides=4, padding=\"same\")(z)\n",
    "# z = Conv2DTranspose(filters=16, kernel_size=3, strides=2, padding=\"same\")(z)\n",
    "# x_hat = Conv2DTranspose(filters=3, kernel_size=3, strides=2, padding=\"same\")(z)\n",
    "\n",
    "z_1 = Reshape((1,1,N*M))\n",
    "z_2 = Conv2DTranspose(filters=32, kernel_size=4, strides=2, padding=\"same\", activation=ACTIV)\n",
    "z_3 = Conv2DTranspose(filters=32, kernel_size=4, strides=2, padding=\"same\", activation=ACTIV)\n",
    "z_4 = Conv2DTranspose(filters=16, kernel_size=4, strides=2, padding=\"same\", activation=ACTIV)\n",
    "z_5 = Conv2DTranspose(filters=16, kernel_size=4, strides=4, padding=\"same\", activation=ACTIV)\n",
    "x_hat = Conv2DTranspose(filters=3, kernel_size=4, strides=2, padding=\"same\", activation=\"sigmoid\")\n",
    "\n",
    "decoded_x = x_hat(z_5(z_4(z_3(z_2(z_1( z ))))))\n",
    "\n",
    "\n",
    "# x_hat = Dense(data_dim, activation='softmax')(Dense(512, activation='relu')(Dense(256, activation='relu')(z)))\n",
    "\n",
    "decode_input = Input( shape=(M*N,) )\n",
    "decoder = x_hat(z_5(z_4(z_3(z_2(z_1( decode_input ))))))\n",
    "generator = Model(decode_input, decoder)\n",
    "\n",
    "vae_test = Model(x, [decoded_x, logits_y, z_])\n",
    "vae = Model(x, decoded_x)\n",
    "vae.compile(optimizer='adam', loss=gumbel_loss)\n",
    "vae.summary()"
   ]
  },
  {
   "cell_type": "code",
   "execution_count": null,
   "metadata": {
    "collapsed": true
   },
   "outputs": [],
   "source": []
  },
  {
   "cell_type": "markdown",
   "metadata": {},
   "source": [
    "# Train"
   ]
  },
  {
   "cell_type": "markdown",
   "metadata": {},
   "source": [
    "## import data"
   ]
  },
  {
   "cell_type": "code",
   "execution_count": 129,
   "metadata": {},
   "outputs": [
    {
     "name": "stdout",
     "output_type": "stream",
     "text": [
      "(10000, 28, 28, 1) (2000, 28, 28, 1)\n"
     ]
    }
   ],
   "source": [
    "# train the VAE on MNIST digits\n",
    "(x_train, y_train), (x_test, y_test) = mnist.load_data()\n",
    "\n",
    "x_train = x_train.astype('float32') / 255.\n",
    "x_test = x_test.astype('float32') / 255.\n",
    "\n",
    "# vectorize\n",
    "# x_train = x_train.reshape((len(x_train), np.prod(x_train.shape[1:]))) \n",
    "# x_test = x_test.reshape((len(x_test), np.prod(x_test.shape[1:])))\n",
    "\n",
    "# give extra third dimensioin\n",
    "x_train = x_train.reshape( (len(x_train),28,28,1  ) )\n",
    "x_test = x_test.reshape( (len(x_test),28,28,1  ) )\n",
    "\n",
    "# reduce data set size\n",
    "x_train = x_train[:10000]\n",
    "x_test = x_test[:2000]\n",
    "\n",
    "print(x_train.shape, x_test.shape)"
   ]
  },
  {
   "cell_type": "markdown",
   "metadata": {},
   "source": [
    "## race car data"
   ]
  },
  {
   "cell_type": "code",
   "execution_count": 151,
   "metadata": {},
   "outputs": [],
   "source": [
    "import os\n",
    "data_dir = \"world_models_data\"\n",
    "data1 = \"small_obs_data_car_racing_1.npy\"\n",
    "np_dat = np.load(os.path.join(data_dir, data1))"
   ]
  },
  {
   "cell_type": "code",
   "execution_count": 152,
   "metadata": {},
   "outputs": [
    {
     "name": "stdout",
     "output_type": "stream",
     "text": [
      "(8000, 64, 64, 3) (2000, 64, 64, 3)\n"
     ]
    }
   ],
   "source": [
    "x_train = np_dat[:8000]\n",
    "x_test = np_dat[8000:]\n",
    "print(x_train.shape, x_test.shape)"
   ]
  },
  {
   "cell_type": "markdown",
   "metadata": {},
   "source": [
    "## Training"
   ]
  },
  {
   "cell_type": "code",
   "execution_count": 130,
   "metadata": {},
   "outputs": [
    {
     "name": "stdout",
     "output_type": "stream",
     "text": [
      "Train on 10000 samples, validate on 2000 samples\n",
      "Epoch 1/50\n",
      "10000/10000 [==============================] - 3s 317us/step - loss: 16.7988 - recon_loss: 92.4780 - kl_div: 75.6793 - val_loss: -15.4723 - val_recon_loss: 66.2559 - val_kl_div: 81.7282\n",
      "Epoch 2/50\n",
      "10000/10000 [==============================] - 2s 184us/step - loss: -21.3234 - recon_loss: 60.4048 - kl_div: 81.7282 - val_loss: -28.1447 - val_recon_loss: 53.5835 - val_kl_div: 81.7282\n",
      "Epoch 3/50\n",
      "10000/10000 [==============================] - 2s 189us/step - loss: -27.8979 - recon_loss: 53.7848 - kl_div: 81.6826 - val_loss: -32.0303 - val_recon_loss: 49.6294 - val_kl_div: 81.6597\n",
      "Epoch 4/50\n",
      "10000/10000 [==============================] - 2s 219us/step - loss: -29.9738 - recon_loss: 51.6654 - kl_div: 81.6391 - val_loss: -33.8673 - val_recon_loss: 47.6977 - val_kl_div: 81.5650\n",
      "Epoch 5/50\n",
      "10000/10000 [==============================] - 2s 229us/step - loss: -32.8878 - recon_loss: 48.6250 - kl_div: 81.5128 - val_loss: -36.4327 - val_recon_loss: 45.0051 - val_kl_div: 81.4379\n",
      "Epoch 6/50\n",
      "10000/10000 [==============================] - 2s 207us/step - loss: -35.4523 - recon_loss: 45.9441 - kl_div: 81.3964 - val_loss: -38.5050 - val_recon_loss: 42.8604 - val_kl_div: 81.3654\n",
      "Epoch 7/50\n",
      "10000/10000 [==============================] - 2s 202us/step - loss: -37.8848 - recon_loss: 43.3245 - kl_div: 81.2093 - val_loss: -41.5158 - val_recon_loss: 39.5546 - val_kl_div: 81.0705\n",
      "Epoch 8/50\n",
      "10000/10000 [==============================] - 2s 243us/step - loss: -47.2547 - recon_loss: 33.2834 - kl_div: 80.5382 - val_loss: -54.4095 - val_recon_loss: 25.6332 - val_kl_div: 80.0427\n",
      "Epoch 9/50\n",
      "10000/10000 [==============================] - 2s 211us/step - loss: -59.3113 - recon_loss: 20.4171 - kl_div: 79.7284 - val_loss: -62.6946 - val_recon_loss: 16.8224 - val_kl_div: 79.5171\n",
      "Epoch 10/50\n",
      "10000/10000 [==============================] - 2s 196us/step - loss: -65.2572 - recon_loss: 14.3825 - kl_div: 79.6397 - val_loss: -66.3399 - val_recon_loss: 13.2135 - val_kl_div: 79.5534\n",
      "Epoch 11/50\n",
      "10000/10000 [==============================] - 2s 192us/step - loss: -67.8817 - recon_loss: 11.8814 - kl_div: 79.7631 - val_loss: -68.1936 - val_recon_loss: 11.5628 - val_kl_div: 79.7564\n",
      "Epoch 12/50\n",
      "10000/10000 [==============================] - 2s 193us/step - loss: -69.5019 - recon_loss: 10.3791 - kl_div: 79.8809 - val_loss: -69.5581 - val_recon_loss: 10.2839 - val_kl_div: 79.8421\n",
      "Epoch 13/50\n",
      "10000/10000 [==============================] - 2s 229us/step - loss: -70.6499 - recon_loss: 9.3603 - kl_div: 80.0102 - val_loss: -70.5924 - val_recon_loss: 9.4178 - val_kl_div: 80.0103\n",
      "Epoch 14/50\n",
      "10000/10000 [==============================] - 2s 230us/step - loss: -71.5067 - recon_loss: 8.6127 - kl_div: 80.1194 - val_loss: -71.2753 - val_recon_loss: 8.7092 - val_kl_div: 79.9845\n",
      "Epoch 15/50\n",
      "10000/10000 [==============================] - 2s 229us/step - loss: -72.1514 - recon_loss: 8.0719 - kl_div: 80.2233 - val_loss: -71.7315 - val_recon_loss: 8.4006 - val_kl_div: 80.1321\n",
      "Epoch 16/50\n",
      "10000/10000 [==============================] - 2s 197us/step - loss: -72.6857 - recon_loss: 7.6229 - kl_div: 80.3086 - val_loss: -72.3110 - val_recon_loss: 7.8975 - val_kl_div: 80.2084\n",
      "Epoch 17/50\n",
      "10000/10000 [==============================] - 2s 225us/step - loss: -73.1370 - recon_loss: 7.2562 - kl_div: 80.3931 - val_loss: -72.7823 - val_recon_loss: 7.4203 - val_kl_div: 80.2026\n",
      "Epoch 18/50\n",
      "10000/10000 [==============================] - 2s 194us/step - loss: -73.5211 - recon_loss: 6.9321 - kl_div: 80.4532 - val_loss: -73.1035 - val_recon_loss: 7.2587 - val_kl_div: 80.3622\n",
      "Epoch 19/50\n",
      "10000/10000 [==============================] - 2s 199us/step - loss: -73.9017 - recon_loss: 6.6265 - kl_div: 80.5283 - val_loss: -73.4653 - val_recon_loss: 6.8843 - val_kl_div: 80.3496\n",
      "Epoch 20/50\n",
      "10000/10000 [==============================] - 2s 207us/step - loss: -74.2072 - recon_loss: 6.3895 - kl_div: 80.5967 - val_loss: -73.7437 - val_recon_loss: 6.6471 - val_kl_div: 80.3908\n",
      "Epoch 21/50\n",
      "10000/10000 [==============================] - 2s 204us/step - loss: -74.5000 - recon_loss: 6.1590 - kl_div: 80.6589 - val_loss: -74.0605 - val_recon_loss: 6.3844 - val_kl_div: 80.4449\n",
      "Epoch 22/50\n",
      "10000/10000 [==============================] - 2s 207us/step - loss: -74.7818 - recon_loss: 5.9245 - kl_div: 80.7063 - val_loss: -74.2797 - val_recon_loss: 6.1800 - val_kl_div: 80.4597\n",
      "Epoch 23/50\n",
      "10000/10000 [==============================] - 2s 186us/step - loss: -75.0292 - recon_loss: 5.7242 - kl_div: 80.7534 - val_loss: -74.3764 - val_recon_loss: 6.2468 - val_kl_div: 80.6232\n",
      "Epoch 24/50\n",
      "10000/10000 [==============================] - 2s 186us/step - loss: -75.2443 - recon_loss: 5.5514 - kl_div: 80.7957 - val_loss: -74.7200 - val_recon_loss: 5.8713 - val_kl_div: 80.5913\n",
      "Epoch 25/50\n",
      "10000/10000 [==============================] - 2s 184us/step - loss: -75.4639 - recon_loss: 5.3742 - kl_div: 80.8381 - val_loss: -74.9158 - val_recon_loss: 5.7243 - val_kl_div: 80.6401\n",
      "Epoch 26/50\n",
      "10000/10000 [==============================] - 2s 185us/step - loss: -75.6105 - recon_loss: 5.2658 - kl_div: 80.8763 - val_loss: -75.0479 - val_recon_loss: 5.6060 - val_kl_div: 80.6540\n",
      "Epoch 27/50\n",
      "10000/10000 [==============================] - 2s 184us/step - loss: -75.7729 - recon_loss: 5.1364 - kl_div: 80.9093 - val_loss: -75.1041 - val_recon_loss: 5.4986 - val_kl_div: 80.6027\n",
      "Epoch 28/50\n",
      "10000/10000 [==============================] - 2s 183us/step - loss: -75.9041 - recon_loss: 5.0407 - kl_div: 80.9448 - val_loss: -75.3116 - val_recon_loss: 5.3553 - val_kl_div: 80.6669\n",
      "Epoch 29/50\n",
      "10000/10000 [==============================] - 2s 191us/step - loss: -76.0621 - recon_loss: 4.9131 - kl_div: 80.9752 - val_loss: -75.4397 - val_recon_loss: 5.2870 - val_kl_div: 80.7267\n",
      "Epoch 30/50\n",
      "10000/10000 [==============================] - 2s 189us/step - loss: -76.1704 - recon_loss: 4.8358 - kl_div: 81.0062 - val_loss: -75.5493 - val_recon_loss: 5.2066 - val_kl_div: 80.7559\n",
      "Epoch 31/50\n",
      "10000/10000 [==============================] - 2s 182us/step - loss: -76.2897 - recon_loss: 4.7370 - kl_div: 81.0266 - val_loss: -75.4775 - val_recon_loss: 5.2768 - val_kl_div: 80.7543\n",
      "Epoch 32/50\n",
      "10000/10000 [==============================] - 2s 183us/step - loss: -76.3749 - recon_loss: 4.6715 - kl_div: 81.0464 - val_loss: -75.6707 - val_recon_loss: 5.0660 - val_kl_div: 80.7366\n",
      "Epoch 33/50\n",
      "10000/10000 [==============================] - 2s 201us/step - loss: -76.4784 - recon_loss: 4.5878 - kl_div: 81.0662 - val_loss: -75.8010 - val_recon_loss: 4.9599 - val_kl_div: 80.7609\n",
      "Epoch 34/50\n",
      "10000/10000 [==============================] - 2s 181us/step - loss: -76.5817 - recon_loss: 4.5087 - kl_div: 81.0905 - val_loss: -75.9035 - val_recon_loss: 4.8939 - val_kl_div: 80.7974\n",
      "Epoch 35/50\n",
      "10000/10000 [==============================] - 2s 193us/step - loss: -76.6346 - recon_loss: 4.4702 - kl_div: 81.1049 - val_loss: -75.9399 - val_recon_loss: 4.8833 - val_kl_div: 80.8232\n",
      "Epoch 36/50\n",
      "10000/10000 [==============================] - 2s 185us/step - loss: -76.7209 - recon_loss: 4.3981 - kl_div: 81.1190 - val_loss: -75.9524 - val_recon_loss: 4.8469 - val_kl_div: 80.7993\n",
      "Epoch 37/50\n",
      "10000/10000 [==============================] - 2s 206us/step - loss: -76.7770 - recon_loss: 4.3552 - kl_div: 81.1321 - val_loss: -75.9937 - val_recon_loss: 4.8136 - val_kl_div: 80.8074\n",
      "Epoch 38/50\n",
      "10000/10000 [==============================] - 2s 182us/step - loss: -76.8169 - recon_loss: 4.3290 - kl_div: 81.1458 - val_loss: -76.0594 - val_recon_loss: 4.7467 - val_kl_div: 80.8061\n",
      "Epoch 39/50\n",
      "10000/10000 [==============================] - 2s 183us/step - loss: -76.8921 - recon_loss: 4.2661 - kl_div: 81.1582 - val_loss: -76.0557 - val_recon_loss: 4.7596 - val_kl_div: 80.8153\n",
      "Epoch 40/50\n",
      "10000/10000 [==============================] - 2s 182us/step - loss: -76.9210 - recon_loss: 4.2430 - kl_div: 81.1640 - val_loss: -76.1672 - val_recon_loss: 4.6160 - val_kl_div: 80.7832\n",
      "Epoch 41/50\n",
      "10000/10000 [==============================] - 2s 182us/step - loss: -76.9815 - recon_loss: 4.1962 - kl_div: 81.1777 - val_loss: -76.1316 - val_recon_loss: 4.6739 - val_kl_div: 80.8055\n",
      "Epoch 42/50\n"
     ]
    },
    {
     "name": "stdout",
     "output_type": "stream",
     "text": [
      "10000/10000 [==============================] - 2s 174us/step - loss: -76.9911 - recon_loss: 4.1896 - kl_div: 81.1807 - val_loss: -76.0210 - val_recon_loss: 4.7801 - val_kl_div: 80.8012\n",
      "Epoch 43/50\n",
      "10000/10000 [==============================] - 2s 173us/step - loss: -77.0783 - recon_loss: 4.1166 - kl_div: 81.1948 - val_loss: -76.1542 - val_recon_loss: 4.6761 - val_kl_div: 80.8303\n",
      "Epoch 44/50\n",
      "10000/10000 [==============================] - 2s 173us/step - loss: -77.1004 - recon_loss: 4.0997 - kl_div: 81.2002 - val_loss: -76.2634 - val_recon_loss: 4.5410 - val_kl_div: 80.8044\n",
      "Epoch 45/50\n",
      "10000/10000 [==============================] - 2s 174us/step - loss: -77.1252 - recon_loss: 4.0818 - kl_div: 81.2070 - val_loss: -76.1392 - val_recon_loss: 4.6675 - val_kl_div: 80.8067\n",
      "Epoch 46/50\n",
      "10000/10000 [==============================] - 2s 174us/step - loss: -77.1430 - recon_loss: 4.0653 - kl_div: 81.2083 - val_loss: -76.3342 - val_recon_loss: 4.4967 - val_kl_div: 80.8309\n",
      "Epoch 47/50\n",
      "10000/10000 [==============================] - 2s 172us/step - loss: -77.1534 - recon_loss: 4.0573 - kl_div: 81.2107 - val_loss: -76.3350 - val_recon_loss: 4.4760 - val_kl_div: 80.8110\n",
      "Epoch 48/50\n",
      "10000/10000 [==============================] - 2s 178us/step - loss: -77.2062 - recon_loss: 4.0146 - kl_div: 81.2208 - val_loss: -76.3688 - val_recon_loss: 4.4576 - val_kl_div: 80.8264\n",
      "Epoch 49/50\n",
      "10000/10000 [==============================] - 2s 174us/step - loss: -77.2072 - recon_loss: 4.0144 - kl_div: 81.2216 - val_loss: -76.3517 - val_recon_loss: 4.4642 - val_kl_div: 80.8159\n",
      "Epoch 50/50\n",
      "10000/10000 [==============================] - 2s 185us/step - loss: -77.2329 - recon_loss: 3.9905 - kl_div: 81.2233 - val_loss: -76.2906 - val_recon_loss: 4.5156 - val_kl_div: 80.8062\n"
     ]
    }
   ],
   "source": [
    "# Callback for keras training, to update temperature param after each epoch\n",
    "class UpdateTemperatureCallback(keras.callbacks.Callback):\n",
    "    def on_train_begin(self, logs={}):\n",
    "        self.taus = []\n",
    "\n",
    "    def on_epoch_end(self, epoch, logs=None):\n",
    "        K.set_value(tau, np.max([K.get_value(tau) * np.exp(- anneal_rate * epoch), min_temperature]))\n",
    "#         K.set_value(tau, get_temp(max_temperature, min_temperature, nb_epochs, epoch))\n",
    "        self.taus.append( K.get_value(tau) )\n",
    "\n",
    "        \n",
    "def get_temp(max_tau, min_tau, nb_points, point):\n",
    "    # TODO: wasteful to call linspace everytime, but just convenient during development (because nb_epochs changes)\n",
    "    return np.linspace(max_tau, min_tau, nb_points)[point]\n",
    "\n",
    "\n",
    "# Will contain list of tau values used during training\n",
    "tau_callback = UpdateTemperatureCallback()\n",
    "\n",
    "train_info = vae.fit(x_train, x_train, \n",
    "    shuffle=True, \n",
    "    epochs=nb_epochs, \n",
    "    batch_size=batch_size,\n",
    "    validation_data=(x_test, x_test),\n",
    "    callbacks=[tau_callback])"
   ]
  },
  {
   "cell_type": "code",
   "execution_count": 131,
   "metadata": {},
   "outputs": [
    {
     "data": {
      "image/png": "[encoded data removed]",
      "text/plain": [
       "<matplotlib.figure.Figure at 0x2786a936828>"
      ]
     },
     "metadata": {},
     "output_type": "display_data"
    },
    {
     "data": {
      "image/png": "[encoded data removed]",
      "text/plain": [
       "<matplotlib.figure.Figure at 0x2786e53be10>"
      ]
     },
     "metadata": {},
     "output_type": "display_data"
    }
   ],
   "source": [
    "# plot train hist..\n",
    "np_loss = np.asarray(train_info.history[\"loss\"])\n",
    "np_val_loss = np.asarray(train_info.history[\"val_loss\"])\n",
    "\n",
    "figure(1)\n",
    "t = range(nb_epochs)\n",
    "plt.plot(t, np_loss, 'b-', label=\"train\") \n",
    "plt.plot(t, np_val_loss, 'r-', label=\"val\")\n",
    "plt.title(\"Training vs Validation loss\")\n",
    "plt.xlabel(\"epochs\")\n",
    "plt.ylabel(\"loss\")\n",
    "plt.legend(loc='upper right')\n",
    "plt.show()\n",
    "\n",
    "# t = np.flip( tau_callback.taus, axis=0 )\n",
    "t = tau_callback.taus\n",
    "plt.plot(np_loss, t, 'b-', label=\"train\") \n",
    "plt.title(\"Temperature vs Loss\")\n",
    "plt.xlabel(\"loss\")\n",
    "plt.ylabel(\"temperature\")\n",
    "plt.show()\n",
    "\n",
    "\n"
   ]
  },
  {
   "cell_type": "markdown",
   "metadata": {},
   "source": [
    "## Save model weights"
   ]
  },
  {
   "cell_type": "code",
   "execution_count": 101,
   "metadata": {},
   "outputs": [],
   "source": [
    "# vae.save_weights('model3_vae_weights.h5')"
   ]
  },
  {
   "cell_type": "markdown",
   "metadata": {},
   "source": [
    "# Visualize results"
   ]
  },
  {
   "cell_type": "code",
   "execution_count": 132,
   "metadata": {},
   "outputs": [],
   "source": [
    "argmax_y = K.max(K.reshape(logits_y, (-1, N, M)), axis=-1, keepdims=True)\n",
    "argmax_y = K.equal(K.reshape(logits_y, (-1, N, M)), argmax_y)\n",
    "# encoder = K.function([x], [argmax_y, x_hat])\n",
    "encoder = K.function([x], [argmax_y, decoded_x])\n"
   ]
  },
  {
   "cell_type": "code",
   "execution_count": 133,
   "metadata": {},
   "outputs": [
    {
     "data": {
      "text/plain": [
       "(<matplotlib.image.AxesImage at 0x27868c87358>, (-0.5, 27.5, 27.5, -0.5))"
      ]
     },
     "execution_count": 133,
     "metadata": {},
     "output_type": "execute_result"
    },
    {
     "data": {
      "image/png": "[encoded data removed]",
      "text/plain": [
       "<matplotlib.figure.Figure at 0x278641e6978>"
      ]
     },
     "metadata": {},
     "output_type": "display_data"
    }
   ],
   "source": [
    "# test_idx, try: from 160-180\n",
    "test_idx = 165\n",
    "_batch = 300\n",
    "code, x_hat_test = encoder([x_test[:_batch]])\n",
    "\n",
    "_x_hat, _logits, _z = vae_test.predict(x_test[:_batch])\n",
    "\n",
    "subplot(331)\n",
    "title(\"Input image\")\n",
    "# imshow(x_test[test_idx].reshape(28, 28), cmap='gray'), axis('off')\n",
    "# imshow(x_test[test_idx].reshape(64, 64, 3), cmap='gray'), axis('off')\n",
    "imshow(x_test[test_idx].reshape(IMAGE_DIM), cmap='gray'), axis('off')\n",
    "\n",
    "subplot(334)\n",
    "title(\"true\")\n",
    "imshow(_z[test_idx].reshape(N, M), cmap='gray'), axis('off')\n",
    "\n",
    "subplot(335)\n",
    "title(\"decoder\")\n",
    "img_true = generator.predict(np.reshape(_z[test_idx], (1,-1)) )\n",
    "# imshow(img_true.reshape(28, 28), cmap='gray'), axis('off')\n",
    "# imshow(img_true.reshape(64, 64, 3), cmap='gray'), axis('off')\n",
    "imshow(img_true.reshape(IMAGE_DIM), cmap='gray'), axis('off')\n",
    "\n",
    "subplot(336)\n",
    "title(\"full network\")\n",
    "# imshow(x_hat_test[test_idx].reshape(28, 28), cmap='gray'), axis('off')\n",
    "# imshow(x_hat_test[test_idx].reshape(64, 64, 3), cmap='gray'), axis('off')\n",
    "imshow(x_hat_test[test_idx].reshape(IMAGE_DIM), cmap='gray'), axis('off')\n",
    "\n",
    "\n",
    "# imshow(x_hat_test[test_idx].reshape(28, 28), cmap='gray'), axis('off')\n",
    "# imshow(x_hat_test[test_idx].reshape(64, 64, 3), cmap='gray'), axis('off')\n",
    "\n",
    "subplot(337)\n",
    "title(\"binary\")\n",
    "imshow(code[test_idx].reshape(N, M), cmap='gray'), axis('off')\n",
    "\n",
    "subplot(338)\n",
    "title(\"binary x_hat\")\n",
    "img_binary = generator.predict(np.reshape(code[test_idx], (1,-1)) )\n",
    "# imshow(img_binary.reshape(28, 28), cmap='gray'), axis('off')\n",
    "# imshow(img_binary.reshape(64, 64, 3), cmap='gray'), axis('off')\n",
    "imshow(img_binary.reshape(IMAGE_DIM), cmap='gray'), axis('off')\n",
    "\n",
    "\n"
   ]
  },
  {
   "cell_type": "markdown",
   "metadata": {},
   "source": [
    "## More visualizations"
   ]
  },
  {
   "cell_type": "code",
   "execution_count": 134,
   "metadata": {},
   "outputs": [
    {
     "name": "stdout",
     "output_type": "stream",
     "text": [
      "Top: Input images\n",
      "Bottom: Reconstructions\n"
     ]
    },
    {
     "data": {
      "image/png": "[encoded data removed]",
      "text/plain": [
       "<matplotlib.figure.Figure at 0x27866b60278>"
      ]
     },
     "metadata": {},
     "output_type": "display_data"
    }
   ],
   "source": [
    "from matplotlib.pyplot import figure\n",
    "fig = figure(num=None, figsize=(8, 2), dpi=80, facecolor='w', edgecolor='k')\n",
    "\n",
    "from matplotlib.pyplot import subplots_adjust\n",
    "subplots_adjust(wspace = 0.5, hspace=0)\n",
    "\n",
    "diverse_obs = [230, 200, 175, 170, 160, 100, 10]\n",
    "\n",
    "# ROW-WISE\n",
    "# rows = len(diverse_obs)\n",
    "# cols = 2\n",
    "# next_idx = 1\n",
    "\n",
    "# for i, obs in enumerate(diverse_obs):\n",
    "#     subplot( rows, cols, next_idx )\n",
    "#     title(\"Input image\")\n",
    "#     # imshow(x_test[test_idx].reshape(28, 28), cmap='gray'), axis('off')\n",
    "#     imshow(x_test[obs].reshape(64, 64, 3), cmap='gray'), axis('off')\n",
    "    \n",
    "#     next_idx += 1\n",
    "    \n",
    "#     subplot( rows, cols, next_idx )\n",
    "#     title(\"decoder\")\n",
    "#     img_true = generator.predict(np.reshape(_z[obs], (1,-1)) )\n",
    "#     # imshow(img_true.reshape(28, 28), cmap='gray'), axis('off')\n",
    "#     imshow(img_true.reshape(64, 64, 3), cmap='gray'), axis('off')\n",
    "    \n",
    "#     next_idx += 1\n",
    "\n",
    "# COLUMN WISE\n",
    "rows = 2\n",
    "cols = len(diverse_obs)\n",
    "\n",
    "print(\"Top: Input images\\nBottom: Reconstructions\")\n",
    "for i, obs in enumerate(diverse_obs):\n",
    "    i += 1\n",
    "    subplot( rows, cols, i )\n",
    "    # imshow(x_test[test_idx].reshape(28, 28), cmap='gray'), axis('off')\n",
    "#     imshow(x_test[obs].reshape(64, 64, 3), cmap='gray'), axis('off')\n",
    "    imshow(x_test[obs].reshape(IMAGE_DIM), cmap='gray'), axis('off')\n",
    "    \n",
    "    subplot( rows, cols, i+cols )\n",
    "    img_true = generator.predict(np.reshape(_z[obs], (1,-1)) )\n",
    "    # imshow(img_true.reshape(28, 28), cmap='gray'), axis('off')\n",
    "#     imshow(img_true.reshape(64, 64, 3), cmap='gray'), axis('off')\n",
    "    imshow(img_true.reshape(IMAGE_DIM), cmap='gray'), axis('off')\n",
    "\n",
    "\n"
   ]
  },
  {
   "cell_type": "markdown",
   "metadata": {},
   "source": [
    "# Create sample 1.0"
   ]
  },
  {
   "cell_type": "code",
   "execution_count": 84,
   "metadata": {},
   "outputs": [],
   "source": [
    "%matplotlib inline\n",
    "from ipywidgets import interactive\n",
    "from ipywidgets import widgets\n",
    "from IPython.display import display"
   ]
  },
  {
   "cell_type": "code",
   "execution_count": 86,
   "metadata": {
    "scrolled": false
   },
   "outputs": [
    {
     "data": {
      "application/vnd.jupyter.widget-view+json": {
       "model_id": "392e65ca1d7c49c98cf6eaadbdfe6f83",
       "version_major": 2,
       "version_minor": 0
      },
      "text/plain": [
       "interactive(children=(IntSlider(value=3, continuous_update=False, description='z17', max=6), IntSlider(value=3…"
      ]
     },
     "metadata": {},
     "output_type": "display_data"
    }
   ],
   "source": [
    "# N = 10\n",
    "# M = 5\n",
    "\n",
    "img_code = np.zeros( (N,M) )\n",
    "\n",
    "def f(*args,**kwargs):\n",
    "#     print(kwargs)\n",
    "    for i, key in enumerate(kwargs):\n",
    "#         print( kwargs[key] )\n",
    "        zero_row = np.zeros((1,M))\n",
    "        zero_row[0, kwargs[key] ] = 1\n",
    "        img_code[i] = zero_row\n",
    "    \n",
    "    plt.subplot(121)\n",
    "    plt.imshow(img_code, cmap=\"gray\")\n",
    "    \n",
    "    plt.subplot(122)\n",
    "    img_binary = generator.predict(np.reshape(img_code, (1,-1)) )\n",
    "#     plt.imshow(img_binary.reshape(28, 28), cmap='gray')\n",
    "#     plt.imshow(img_binary.reshape(64, 64, 3), cmap='gray')\n",
    "    plt.imshow(img_binary.reshape(IMAGE_DIM), cmap='gray')\n",
    "    plt.axis('off')\n",
    "\n",
    "\n",
    "kw_dict = {}\n",
    "for n in range(N):\n",
    "    kw_dict[\"z\"+str(n)] = widgets.IntSlider(description=\"z\"+str(n), min=0, max=(M-1), value=int(M/2), continuous_update=False)\n",
    "\n",
    "interactive_plot = interactive(f, **kw_dict)\n",
    "output = interactive_plot.children[-1]\n",
    "output.layout.height = '350px'\n",
    "interactive_plot"
   ]
  },
  {
   "cell_type": "code",
   "execution_count": null,
   "metadata": {},
   "outputs": [],
   "source": []
  },
  {
   "cell_type": "code",
   "execution_count": null,
   "metadata": {
    "collapsed": true
   },
   "outputs": [],
   "source": []
  }
 ],
 "metadata": {
  "kernelspec": {
   "display_name": "Python 3",
   "language": "python",
   "name": "python3"
  },
  "language_info": {
   "codemirror_mode": {
    "name": "ipython",
    "version": 3
   },
   "file_extension": ".py",
   "mimetype": "text/x-python",
   "name": "python",
   "nbconvert_exporter": "python",
   "pygments_lexer": "ipython3",
   "version": "3.5.2"
  }
 },
 "nbformat": 4,
 "nbformat_minor": 1
}
