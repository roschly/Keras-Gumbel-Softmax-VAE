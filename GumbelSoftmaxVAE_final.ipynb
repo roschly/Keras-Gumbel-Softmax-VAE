{
 "cells": [
  {
   "cell_type": "markdown",
   "metadata": {},
   "source": [
    "# Introduction"
   ]
  },
  {
   "cell_type": "markdown",
   "metadata": {},
   "source": [
    "This is a GumbelSoftmax variational autoencoder (VAE) implementation in Keras. Its purpose is to explore the viability of a discrete latent representation of a simple 2D top-down game, for later use in a Reinforcement Learning agent.\n",
    "\n",
    "The theory is based on the work in the paper \"Categorical Reparameterization with Gumbel-Softmax\" (https://arxiv.org/pdf/1611.01144.pdf)\n",
    "\n",
    "With code developed from (https://github.com/EderSantana/gumbel) and (https://github.com/ericjang/gumbel-softmax)\n"
   ]
  },
  {
   "cell_type": "markdown",
   "metadata": {},
   "source": [
    "# Imports"
   ]
  },
  {
   "cell_type": "code",
   "execution_count": 1,
   "metadata": {},
   "outputs": [
    {
     "name": "stderr",
     "output_type": "stream",
     "text": [
      "Using TensorFlow backend.\n"
     ]
    },
    {
     "name": "stdout",
     "output_type": "stream",
     "text": [
      "Populating the interactive namespace from numpy and matplotlib\n"
     ]
    }
   ],
   "source": [
    "import numpy as np\n",
    "import matplotlib.pyplot as plt\n",
    "\n",
    "import keras\n",
    "from keras.layers import Input, Dense, Lambda, Conv2D, Flatten, Conv2DTranspose, Reshape, Activation\n",
    "from keras.models import Model, Sequential\n",
    "from keras import backend as K\n",
    "from keras import objectives\n",
    "from keras.datasets import mnist\n",
    "from keras.activations import softmax\n",
    "from keras.objectives import binary_crossentropy as bce\n",
    "from keras.objectives import mean_squared_error as mse\n",
    "\n",
    "\n",
    "%pylab inline"
   ]
  },
  {
   "cell_type": "markdown",
   "metadata": {},
   "source": [
    "# The Gumbel-Softmax distribution\n",
    "\n",
    "Representing discrete real world problems with categorical variables, is in obvious choice. They are however, not easy to use with models that rely on backpropagation, because of their discrete nature. As with many things in science, a sufficient approximation can be used instead.  \n",
    "The Gumbel-Softmax distribution is such an approximation. It is controlled by a temperature parameter, $ \\tau $, that interpolates between discrete one-hot encoded categorical distributions and continuous categorical densities.\n",
    "\n",
    "<img src=\"gumbel_softmax_dist.png\">\n",
    "\n",
    "The following paragraph from \"Categorical Reparameterization with Gumbel-Softmax\" (section \"2 - The Gumbel-Softmax Distribution) describes the choice of softmax and the resulting samples drawn from it:\n",
    "\n",
    "<blockquote cite=\"https://arxiv.org/pdf/1611.01144.pdf\">\n",
    "The Gumbel-Max trick (Gumbel, 1954; Maddison et al., 2014) provides a simple and efficient way to draw samples $z$ from a categorical distribution with class probabilities $\\pi$:\n",
    "\n",
    "$$ z = \\text{one_hot} \\big( \\arg\\max_i [g_i + \\log \\pi_i] \\big) $$\n",
    "\n",
    "where $g_1...g_k$ are i.i.d samples drawn from Gumbel(0,1). We use the softmax function as a continuous, differentiable approximation to arg max, and generate $k$-dimensional sample vectors $y$, where\n",
    "\n",
    "$$ y_i = \\frac{ \\exp ((\\log (\\pi_i) + g_i) / \\tau) }{ \\sum_{j=1}^{k} \\exp ((\\log (\\pi_j) + g_j) / \\tau) } \\quad \\text{for } i = 1,...,k $$\n",
    "\n",
    "</blockquote>\n",
    "\n",
    "## Loss and Sampling functions\n",
    "\n",
    "### Loss\n",
    "The loss function is comprised of two terms: the reconstruction loss and the KL divergence.\n",
    "The reconstruction loss is a measure of the difference between the original image and the reconstructed one, and in the perfect situation this would be zero (perfect reconstruction).\n",
    "\n",
    "$$ \\text{reconstruction_loss} = \\text{nr_pixels} \\times \\text{MSE}(x, \\tilde x) $$\n",
    "\n",
    "The KL divergence measures how the encoder distribution, $q(z)$, differs from the uniform prior distribution $p(z)$. This divergence serves as a regularization term, meant to force the distribution as close to a uniform distribution, without losing too much reconstruction ability. In the perfection situation, this will not reach zero, as that would indicate a random distribution, and an decoder that has learned nothing.  \n",
    "The KL divergence code is based on the following math\n",
    "\n",
    "$$ KL(q \\parallel p) = \\sum q(z) \\times \\log \\frac{q(z)}{p(z)} $$\n",
    "\n",
    "$$ KL(q \\parallel p) = \\sum q(z) \\times \\lbrack \\log q(z) - \\log p(z) \\rbrack $$\n",
    "\n",
    "$$ KL(q \\parallel p) = \\sum q(z) \\times \\lbrack \\log q(z) - \\log \\frac{1}{m} \\rbrack $$\n",
    "\n",
    "with $m$ being the number of categories in the categorical distribution.\n",
    "\n",
    "### Sampling\n",
    "The Gumbel distribution can be sampled using inverse transform sampling (see the paper this work is based on)\n",
    "$$ g = -log(-log(u)) $$ \n",
    "with $u$ sampled from a Uniform distribution\n",
    "$$ u \\sim Uniform(0,1) $$"
   ]
  },
  {
   "cell_type": "code",
   "execution_count": 3,
   "metadata": {},
   "outputs": [],
   "source": [
    "# Sample with log probabilities (consistent with theory)\n",
    "def sampling(logits_y):\n",
    "    U = K.random_uniform(K.shape(logits_y), 0, 1)\n",
    "    q_y = K.reshape(logits_y, (-1, N, M))\n",
    "    q_y = softmax(q_y)\n",
    "    log_q_y = K.log(q_y + 1e-20)\n",
    "    log_q_y = K.reshape(log_q_y, (-1, N*M))\n",
    "    y = log_q_y - K.log(-K.log(U + 1e-20) + 1e-20) # logits + gumbel noise\n",
    "    y = softmax(K.reshape(y, (-1, N, M)) / tau)\n",
    "    y = K.reshape(y, (-1, N*M))\n",
    "    return y\n",
    "\n",
    "\n",
    "def gumbel_loss(x, x_hat):\n",
    "    # calc KL divergence\n",
    "    q_y = K.reshape(logits_y, (-1, N, M)) # reshape: batches, N*M --> batches, N, M\n",
    "    q_y = softmax(q_y)\n",
    "    log_q_y = K.log(q_y + 1e-20)\n",
    "    kl_tmp = q_y * (log_q_y - K.log(1.0/M)) # 1.0/M: uniform prior, all options equally likely\n",
    "    KL = K.sum(kl_tmp, axis=(1, 2))\n",
    "    # reshape x and x_hat into vectors (required by keras)\n",
    "    x = K.reshape(x, (1,-1))\n",
    "    x_hat = K.reshape(x_hat, (1,-1))\n",
    "    # final loss\n",
    "    elbo = DATA_DIM * mse(x, x_hat) - KL\n",
    "    return elbo"
   ]
  },
  {
   "cell_type": "markdown",
   "metadata": {},
   "source": [
    "# Model\n",
    "Convolutional neural networks are used in both the encoder and decoder of the autoencoder."
   ]
  },
  {
   "cell_type": "code",
   "execution_count": 9,
   "metadata": {},
   "outputs": [],
   "source": [
    "batch_size = 64\n",
    "IMAGE_DIM = (64,64,3)\n",
    "INPUT_DIM = (64,64,3)\n",
    "DATA_DIM = 12288 # = 64x64x3\n",
    "N = 10\n",
    "M = 6\n",
    "nb_epochs = 100 #100\n",
    "epsilon_std = 0.01\n",
    "\n",
    "anneal_rate = 0.0003 # used to lower temperature during training\n",
    "max_temperature = 2.0\n",
    "min_temperature = 0.5\n",
    "\n",
    "tau = K.variable(max_temperature, name=\"temperature\")\n",
    "ACTIV = \"relu\"\n"
   ]
  },
  {
   "cell_type": "code",
   "execution_count": 6,
   "metadata": {},
   "outputs": [
    {
     "name": "stdout",
     "output_type": "stream",
     "text": [
      "_________________________________________________________________\n",
      "Layer (type)                 Output Shape              Param #   \n",
      "=================================================================\n",
      "input_3 (InputLayer)         (None, 64, 64, 3)         0         \n",
      "_________________________________________________________________\n",
      "conv2d_3 (Conv2D)            (None, 32, 32, 32)        1568      \n",
      "_________________________________________________________________\n",
      "conv2d_4 (Conv2D)            (None, 16, 16, 64)        32832     \n",
      "_________________________________________________________________\n",
      "conv2d_5 (Conv2D)            (None, 8, 8, 128)         131200    \n",
      "_________________________________________________________________\n",
      "flatten_2 (Flatten)          (None, 8192)              0         \n",
      "_________________________________________________________________\n",
      "dense_2 (Dense)              (None, 60)                491580    \n",
      "_________________________________________________________________\n",
      "lambda_2 (Lambda)            (None, 60)                0         \n",
      "_________________________________________________________________\n",
      "reshape_2 (Reshape)          (None, 1, 1, 60)          0         \n",
      "_________________________________________________________________\n",
      "conv2d_transpose_6 (Conv2DTr (None, 2, 2, 32)          30752     \n",
      "_________________________________________________________________\n",
      "conv2d_transpose_7 (Conv2DTr (None, 4, 4, 32)          16416     \n",
      "_________________________________________________________________\n",
      "conv2d_transpose_8 (Conv2DTr (None, 8, 8, 32)          16416     \n",
      "_________________________________________________________________\n",
      "conv2d_transpose_9 (Conv2DTr (None, 16, 16, 16)        8208      \n",
      "_________________________________________________________________\n",
      "conv2d_transpose_10 (Conv2DT (None, 32, 32, 16)        4112      \n",
      "_________________________________________________________________\n",
      "conv2d_transpose_11 (Conv2DT (None, 64, 64, 3)         771       \n",
      "=================================================================\n",
      "Total params: 733,855\n",
      "Trainable params: 733,855\n",
      "Non-trainable params: 0\n",
      "_________________________________________________________________\n"
     ]
    }
   ],
   "source": [
    "# ======= DEFINE MODEL\n",
    "\n",
    "# ENCODER\n",
    "x = Input(shape=INPUT_DIM)\n",
    "h = Conv2D(filters=32, kernel_size=4, strides=2, padding='same', activation=ACTIV)(x)\n",
    "h = Conv2D(filters=64, kernel_size=4, strides=2, padding='same', activation=ACTIV)(h)\n",
    "h = Conv2D(filters=128, kernel_size=4, strides=2, padding='same', activation=ACTIV)(h)\n",
    "h = Flatten()(h)\n",
    "\n",
    "logits_y = Dense(M*N, activation=None)(h)\n",
    "\n",
    "# SAMPLING LAYER\n",
    "z_lay = Lambda(sampling, output_shape=(M*N,))\n",
    "z = z_lay(logits_y)\n",
    "z_ = Activation(None)(z) # used for testing the output\n",
    "\n",
    "# DECODER\n",
    "z_1 = Reshape((1,1,N*M))\n",
    "z_2 = Conv2DTranspose(filters=32, kernel_size=4, strides=2, padding=\"same\", activation=ACTIV)\n",
    "z_3 = Conv2DTranspose(filters=32, kernel_size=4, strides=2, padding=\"same\", activation=ACTIV)\n",
    "z_4 = Conv2DTranspose(filters=32, kernel_size=4, strides=2, padding=\"same\", activation=ACTIV)\n",
    "z_5 = Conv2DTranspose(filters=16, kernel_size=4, strides=2, padding=\"same\", activation=ACTIV)\n",
    "z_6 = Conv2DTranspose(filters=16, kernel_size=4, strides=2, padding=\"same\", activation=ACTIV)\n",
    "x_hat = Conv2DTranspose(filters=3, kernel_size=4, strides=2, padding=\"same\", activation=\"sigmoid\")\n",
    "\n",
    "## The decoding part is used in two different models, so that it's possible to use the decoder separately afterwards\n",
    "# Decoder part of the full network\n",
    "decoded_x = x_hat(z_6(z_5(z_4(z_3(z_2(z_1( z )))))))\n",
    "\n",
    "\n",
    "# The separate decoder model, called generator\n",
    "decode_input = Input( shape=(M*N,) ) # input-layer with same dimensionality as the output from sampling layer (z)\n",
    "decoder = x_hat(z_6(z_5(z_4(z_3(z_2(z_1( decode_input ))))))) # apply previous input layer to the decoder layers\n",
    "generator = Model(decode_input, decoder)\n",
    "\n",
    "# used for testing the ouput of the different layers\n",
    "vae_test = Model(x, [decoded_x, logits_y, z_])\n",
    "\n",
    "# the final full network\n",
    "vae = Model(x, decoded_x)\n",
    "\n",
    "# Custom metrics: reconstruction loss and KL divergence\n",
    "# reconstruction loss\n",
    "def recon_loss(x, x_hat):\n",
    "    return DATA_DIM * mse(x, x_hat)\n",
    "\n",
    "# KL divergence\n",
    "def kl_div(x, x_hat):\n",
    "    q_y = K.reshape(logits_y, (-1, N, M))\n",
    "    q_y = softmax(q_y)\n",
    "    log_q_y = K.log(q_y + 1e-20)\n",
    "    kl_tmp = q_y * (log_q_y - K.log(1.0/M))\n",
    "    KL = K.sum(kl_tmp, axis=(1, 2))\n",
    "    return KL\n",
    "\n",
    "optim = keras.optimizers.Adam(lr=0.0005)\n",
    "\n",
    "vae.compile(optimizer=optim, \n",
    "            loss=gumbel_loss,\n",
    "            metrics=[recon_loss, kl_div])\n",
    "vae.summary()"
   ]
  },
  {
   "cell_type": "markdown",
   "metadata": {},
   "source": [
    "# Import data"
   ]
  },
  {
   "cell_type": "code",
   "execution_count": 7,
   "metadata": {},
   "outputs": [
    {
     "name": "stdout",
     "output_type": "stream",
     "text": [
      "(8000, 64, 64, 3) (2000, 64, 64, 3)\n"
     ]
    }
   ],
   "source": [
    "import os\n",
    "data_dir = \"world_models_data\"\n",
    "data1 = \"small_obs_data_car_racing_1.npy\"\n",
    "np_dat = np.load(os.path.join(data_dir, data1))\n",
    "np.random.shuffle(np_dat)\n",
    "\n",
    "x_train = np_dat[:8000]\n",
    "x_test = np_dat[8000:]\n",
    "print(x_train.shape, x_test.shape)"
   ]
  },
  {
   "cell_type": "markdown",
   "metadata": {},
   "source": [
    "The race car game is an OpenAI Gym environment, with the task of controlling a car along a track. The car is fixed in bottom center of the image. There are no obstacles or opponents. The difficulty lie in following the road.\n",
    "\n",
    "The states (images) have been downsampled from 96x96x3 to 64x64x3. This leaves the car as a simple red dot. But since it is fixed and the world spins aroud it, no vital information is lost by it being a simple dot."
   ]
  },
  {
   "cell_type": "code",
   "execution_count": 8,
   "metadata": {},
   "outputs": [
    {
     "data": {
      "text/plain": [
       "<matplotlib.image.AxesImage at 0x1cb3e0cfef0>"
      ]
     },
     "execution_count": 8,
     "metadata": {},
     "output_type": "execute_result"
    },
    {
     "data": {
      "image/png": "[encoded data removed]",
      "text/plain": [
       "<matplotlib.figure.Figure at 0x1cb1e43fb70>"
      ]
     },
     "metadata": {},
     "output_type": "display_data"
    }
   ],
   "source": [
    "# Sample images\n",
    "subplot(131)\n",
    "imshow(x_test[100])\n",
    "subplot(132)\n",
    "imshow(x_test[170])\n",
    "subplot(133)\n",
    "imshow(x_test[230])"
   ]
  },
  {
   "cell_type": "markdown",
   "metadata": {},
   "source": [
    "# Training"
   ]
  },
  {
   "cell_type": "code",
   "execution_count": 10,
   "metadata": {},
   "outputs": [
    {
     "name": "stdout",
     "output_type": "stream",
     "text": [
      "Train on 8000 samples, validate on 2000 samples\n",
      "Epoch 1/100\n",
      "8000/8000 [==============================] - 10s 1ms/step - loss: 681.4236 - recon_loss: 698.2714 - kl_div: 16.8478 - val_loss: 521.1297 - val_recon_loss: 539.0473 - val_kl_div: 17.9176\n",
      "Epoch 2/100\n",
      "8000/8000 [==============================] - 4s 561us/step - loss: 281.9889 - recon_loss: 299.9065 - kl_div: 17.9176 - val_loss: 241.9812 - val_recon_loss: 259.8988 - val_kl_div: 17.9176\n",
      "Epoch 3/100\n",
      "8000/8000 [==============================] - 4s 562us/step - loss: 217.4725 - recon_loss: 235.3252 - kl_div: 17.8528 - val_loss: 195.7486 - val_recon_loss: 213.6549 - val_kl_div: 17.9062\n",
      "Epoch 4/100\n",
      "8000/8000 [==============================] - 4s 547us/step - loss: 153.9493 - recon_loss: 171.8639 - kl_div: 17.9146 - val_loss: 127.3365 - val_recon_loss: 145.2494 - val_kl_div: 17.9129\n",
      "Epoch 5/100\n",
      "8000/8000 [==============================] - 4s 536us/step - loss: 117.1909 - recon_loss: 135.1051 - kl_div: 17.9142 - val_loss: 113.0431 - val_recon_loss: 130.9575 - val_kl_div: 17.9143\n",
      "Epoch 6/100\n",
      "8000/8000 [==============================] - 4s 551us/step - loss: 106.4429 - recon_loss: 124.3581 - kl_div: 17.9152 - val_loss: 108.9275 - val_recon_loss: 126.8425 - val_kl_div: 17.9150\n",
      "Epoch 7/100\n",
      "8000/8000 [==============================] - 4s 550us/step - loss: 105.4495 - recon_loss: 123.3614 - kl_div: 17.9119 - val_loss: 101.3656 - val_recon_loss: 119.2728 - val_kl_div: 17.9072\n",
      "Epoch 8/100\n",
      "8000/8000 [==============================] - 4s 546us/step - loss: 92.9369 - recon_loss: 110.6760 - kl_div: 17.7391 - val_loss: 88.2341 - val_recon_loss: 106.0549 - val_kl_div: 17.8208\n",
      "Epoch 9/100\n",
      "8000/8000 [==============================] - 4s 555us/step - loss: 82.9877 - recon_loss: 100.7680 - kl_div: 17.7802 - val_loss: 82.0455 - val_recon_loss: 99.8529 - val_kl_div: 17.8074\n",
      "Epoch 10/100\n",
      "8000/8000 [==============================] - 4s 543us/step - loss: 76.8680 - recon_loss: 94.5892 - kl_div: 17.7212 - val_loss: 73.9666 - val_recon_loss: 91.6612 - val_kl_div: 17.6946\n",
      "Epoch 11/100\n",
      "8000/8000 [==============================] - 4s 559us/step - loss: 67.6004 - recon_loss: 85.2391 - kl_div: 17.6387 - val_loss: 63.9523 - val_recon_loss: 81.5965 - val_kl_div: 17.6442\n",
      "Epoch 12/100\n",
      "8000/8000 [==============================] - 4s 543us/step - loss: 59.8933 - recon_loss: 77.5091 - kl_div: 17.6159 - val_loss: 57.7876 - val_recon_loss: 75.3208 - val_kl_div: 17.5331\n",
      "Epoch 13/100\n",
      "8000/8000 [==============================] - 4s 538us/step - loss: 54.5906 - recon_loss: 72.1977 - kl_div: 17.6071 - val_loss: 54.3074 - val_recon_loss: 71.8589 - val_kl_div: 17.5515\n",
      "Epoch 14/100\n",
      "8000/8000 [==============================] - 4s 536us/step - loss: 51.2992 - recon_loss: 68.8890 - kl_div: 17.5898 - val_loss: 51.3479 - val_recon_loss: 68.9918 - val_kl_div: 17.6439\n",
      "Epoch 15/100\n",
      "8000/8000 [==============================] - 4s 540us/step - loss: 48.4436 - recon_loss: 66.0418 - kl_div: 17.5983 - val_loss: 48.3506 - val_recon_loss: 65.8877 - val_kl_div: 17.5370\n",
      "Epoch 16/100\n",
      "8000/8000 [==============================] - 4s 539us/step - loss: 46.7069 - recon_loss: 64.2886 - kl_div: 17.5817 - val_loss: 47.2589 - val_recon_loss: 64.8418 - val_kl_div: 17.5829\n",
      "Epoch 17/100\n",
      "8000/8000 [==============================] - 4s 541us/step - loss: 45.1111 - recon_loss: 62.7237 - kl_div: 17.6126 - val_loss: 45.9311 - val_recon_loss: 63.5037 - val_kl_div: 17.5726\n",
      "Epoch 18/100\n",
      "8000/8000 [==============================] - 4s 541us/step - loss: 44.1379 - recon_loss: 61.7569 - kl_div: 17.6190 - val_loss: 44.3159 - val_recon_loss: 61.8801 - val_kl_div: 17.5642\n",
      "Epoch 19/100\n",
      "8000/8000 [==============================] - 4s 539us/step - loss: 42.8680 - recon_loss: 60.4788 - kl_div: 17.6109 - val_loss: 43.2716 - val_recon_loss: 60.8503 - val_kl_div: 17.5787\n",
      "Epoch 20/100\n",
      "8000/8000 [==============================] - 4s 533us/step - loss: 41.5355 - recon_loss: 59.1384 - kl_div: 17.6029 - val_loss: 41.8277 - val_recon_loss: 59.4384 - val_kl_div: 17.6107\n",
      "Epoch 21/100\n",
      "8000/8000 [==============================] - 4s 541us/step - loss: 40.8432 - recon_loss: 58.4622 - kl_div: 17.6189 - val_loss: 41.0307 - val_recon_loss: 58.6446 - val_kl_div: 17.6139\n",
      "Epoch 22/100\n",
      "8000/8000 [==============================] - 4s 537us/step - loss: 40.2671 - recon_loss: 57.8784 - kl_div: 17.6113 - val_loss: 40.8832 - val_recon_loss: 58.4093 - val_kl_div: 17.5262\n",
      "Epoch 23/100\n",
      "8000/8000 [==============================] - 4s 544us/step - loss: 39.5575 - recon_loss: 57.1672 - kl_div: 17.6097 - val_loss: 39.8801 - val_recon_loss: 57.4908 - val_kl_div: 17.6107\n",
      "Epoch 24/100\n",
      "8000/8000 [==============================] - 4s 542us/step - loss: 38.8184 - recon_loss: 56.4208 - kl_div: 17.6024 - val_loss: 39.3585 - val_recon_loss: 56.9248 - val_kl_div: 17.5663\n",
      "Epoch 25/100\n",
      "8000/8000 [==============================] - 5s 574us/step - loss: 38.3200 - recon_loss: 55.9147 - kl_div: 17.5947 - val_loss: 38.8054 - val_recon_loss: 56.3855 - val_kl_div: 17.5801\n",
      "Epoch 26/100\n",
      "8000/8000 [==============================] - 4s 526us/step - loss: 37.7627 - recon_loss: 55.3559 - kl_div: 17.5932 - val_loss: 38.7670 - val_recon_loss: 56.3368 - val_kl_div: 17.5698\n",
      "Epoch 27/100\n",
      "8000/8000 [==============================] - 4s 530us/step - loss: 37.5031 - recon_loss: 55.1060 - kl_div: 17.6029 - val_loss: 37.9786 - val_recon_loss: 55.5468 - val_kl_div: 17.5682\n",
      "Epoch 28/100\n",
      "8000/8000 [==============================] - 4s 530us/step - loss: 37.1413 - recon_loss: 54.7415 - kl_div: 17.6003 - val_loss: 37.8801 - val_recon_loss: 55.4944 - val_kl_div: 17.6143\n",
      "Epoch 29/100\n",
      "8000/8000 [==============================] - 4s 546us/step - loss: 36.6184 - recon_loss: 54.2231 - kl_div: 17.6046 - val_loss: 37.9401 - val_recon_loss: 55.5285 - val_kl_div: 17.5884\n",
      "Epoch 30/100\n",
      "8000/8000 [==============================] - 4s 536us/step - loss: 36.1523 - recon_loss: 53.7577 - kl_div: 17.6055 - val_loss: 36.8518 - val_recon_loss: 54.4567 - val_kl_div: 17.6049\n",
      "Epoch 31/100\n",
      "8000/8000 [==============================] - 4s 549us/step - loss: 35.8965 - recon_loss: 53.5081 - kl_div: 17.6116 - val_loss: 36.3560 - val_recon_loss: 53.9625 - val_kl_div: 17.6065\n",
      "Epoch 32/100\n",
      "8000/8000 [==============================] - 4s 556us/step - loss: 35.5817 - recon_loss: 53.1952 - kl_div: 17.6135 - val_loss: 36.0232 - val_recon_loss: 53.6117 - val_kl_div: 17.5885\n",
      "Epoch 33/100\n",
      "8000/8000 [==============================] - 4s 536us/step - loss: 35.0820 - recon_loss: 52.6958 - kl_div: 17.6138 - val_loss: 36.4857 - val_recon_loss: 54.0962 - val_kl_div: 17.6105\n",
      "Epoch 34/100\n",
      "8000/8000 [==============================] - 4s 549us/step - loss: 34.9953 - recon_loss: 52.6131 - kl_div: 17.6178 - val_loss: 35.6937 - val_recon_loss: 53.2881 - val_kl_div: 17.5944\n",
      "Epoch 35/100\n",
      "8000/8000 [==============================] - 4s 545us/step - loss: 34.8066 - recon_loss: 52.4230 - kl_div: 17.6164 - val_loss: 35.4698 - val_recon_loss: 53.0685 - val_kl_div: 17.5988\n",
      "Epoch 36/100\n",
      "8000/8000 [==============================] - 4s 500us/step - loss: 34.6068 - recon_loss: 52.2316 - kl_div: 17.6248 - val_loss: 35.2230 - val_recon_loss: 52.8469 - val_kl_div: 17.6239\n",
      "Epoch 37/100\n",
      "8000/8000 [==============================] - 4s 538us/step - loss: 34.1965 - recon_loss: 51.8183 - kl_div: 17.6218 - val_loss: 35.1214 - val_recon_loss: 52.7303 - val_kl_div: 17.6089\n",
      "Epoch 38/100\n",
      "8000/8000 [==============================] - 4s 537us/step - loss: 34.1848 - recon_loss: 51.8101 - kl_div: 17.6253 - val_loss: 34.9374 - val_recon_loss: 52.5323 - val_kl_div: 17.5949\n",
      "Epoch 39/100\n",
      "8000/8000 [==============================] - 4s 544us/step - loss: 34.0561 - recon_loss: 51.6722 - kl_div: 17.6161 - val_loss: 34.7191 - val_recon_loss: 52.3308 - val_kl_div: 17.6117\n",
      "Epoch 40/100\n",
      "8000/8000 [==============================] - 4s 545us/step - loss: 33.9991 - recon_loss: 51.6338 - kl_div: 17.6347 - val_loss: 34.6907 - val_recon_loss: 52.3177 - val_kl_div: 17.6270\n",
      "Epoch 41/100\n",
      "8000/8000 [==============================] - 4s 527us/step - loss: 33.5593 - recon_loss: 51.1776 - kl_div: 17.6183 - val_loss: 34.3409 - val_recon_loss: 51.9352 - val_kl_div: 17.5943\n",
      "Epoch 42/100\n",
      "8000/8000 [==============================] - 4s 511us/step - loss: 33.4004 - recon_loss: 51.0265 - kl_div: 17.6261 - val_loss: 34.5513 - val_recon_loss: 52.1785 - val_kl_div: 17.6272\n",
      "Epoch 43/100\n",
      "8000/8000 [==============================] - 4s 506us/step - loss: 33.1208 - recon_loss: 50.7464 - kl_div: 17.6255 - val_loss: 34.2215 - val_recon_loss: 51.8489 - val_kl_div: 17.6274\n",
      "Epoch 44/100\n",
      "8000/8000 [==============================] - 4s 504us/step - loss: 33.0693 - recon_loss: 50.7029 - kl_div: 17.6336 - val_loss: 33.8964 - val_recon_loss: 51.4983 - val_kl_div: 17.6018\n",
      "Epoch 45/100\n",
      "8000/8000 [==============================] - 4s 506us/step - loss: 33.1533 - recon_loss: 50.7778 - kl_div: 17.6245 - val_loss: 34.0207 - val_recon_loss: 51.6479 - val_kl_div: 17.6272\n",
      "Epoch 46/100\n",
      "8000/8000 [==============================] - 4s 508us/step - loss: 32.9762 - recon_loss: 50.6077 - kl_div: 17.6316 - val_loss: 34.3361 - val_recon_loss: 51.9645 - val_kl_div: 17.6284\n",
      "Epoch 47/100\n",
      "8000/8000 [==============================] - 5s 568us/step - loss: 32.7307 - recon_loss: 50.3514 - kl_div: 17.6207 - val_loss: 33.7663 - val_recon_loss: 51.3740 - val_kl_div: 17.6077\n",
      "Epoch 48/100\n",
      "8000/8000 [==============================] - 4s 508us/step - loss: 32.3346 - recon_loss: 49.9555 - kl_div: 17.6209 - val_loss: 33.5124 - val_recon_loss: 51.0898 - val_kl_div: 17.5774\n",
      "Epoch 49/100\n",
      "8000/8000 [==============================] - 5s 621us/step - loss: 32.3862 - recon_loss: 50.0114 - kl_div: 17.6252 - val_loss: 33.1919 - val_recon_loss: 50.7920 - val_kl_div: 17.6001\n",
      "Epoch 50/100\n",
      "8000/8000 [==============================] - 4s 460us/step - loss: 32.4605 - recon_loss: 50.0908 - kl_div: 17.6302 - val_loss: 33.0322 - val_recon_loss: 50.6538 - val_kl_div: 17.6216\n",
      "Epoch 51/100\n",
      "8000/8000 [==============================] - 4s 460us/step - loss: 32.1512 - recon_loss: 49.7805 - kl_div: 17.6293 - val_loss: 33.2438 - val_recon_loss: 50.8337 - val_kl_div: 17.5899\n",
      "Epoch 52/100\n",
      "8000/8000 [==============================] - 4s 456us/step - loss: 32.0382 - recon_loss: 49.6682 - kl_div: 17.6300 - val_loss: 33.0175 - val_recon_loss: 50.6052 - val_kl_div: 17.5877\n",
      "Epoch 53/100\n",
      "8000/8000 [==============================] - 5s 595us/step - loss: 31.8574 - recon_loss: 49.4877 - kl_div: 17.6303 - val_loss: 32.7883 - val_recon_loss: 50.3847 - val_kl_div: 17.5965\n",
      "Epoch 54/100\n",
      "8000/8000 [==============================] - 4s 537us/step - loss: 31.6850 - recon_loss: 49.3113 - kl_div: 17.6264 - val_loss: 32.7441 - val_recon_loss: 50.3641 - val_kl_div: 17.6199\n",
      "Epoch 55/100\n",
      "8000/8000 [==============================] - 4s 492us/step - loss: 31.5265 - recon_loss: 49.1490 - kl_div: 17.6225 - val_loss: 32.3990 - val_recon_loss: 49.9847 - val_kl_div: 17.5857\n",
      "Epoch 56/100\n",
      "8000/8000 [==============================] - 5s 684us/step - loss: 31.4454 - recon_loss: 49.0696 - kl_div: 17.6242 - val_loss: 32.2029 - val_recon_loss: 49.7880 - val_kl_div: 17.5852\n",
      "Epoch 57/100\n",
      "8000/8000 [==============================] - 5s 660us/step - loss: 30.9111 - recon_loss: 48.5388 - kl_div: 17.6277 - val_loss: 31.7538 - val_recon_loss: 49.3506 - val_kl_div: 17.5968\n",
      "Epoch 58/100\n",
      "8000/8000 [==============================] - 4s 484us/step - loss: 30.8034 - recon_loss: 48.4258 - kl_div: 17.6223 - val_loss: 32.1943 - val_recon_loss: 49.7534 - val_kl_div: 17.5591\n",
      "Epoch 59/100\n",
      "8000/8000 [==============================] - 5s 615us/step - loss: 30.5586 - recon_loss: 48.1776 - kl_div: 17.6189 - val_loss: 31.6649 - val_recon_loss: 49.2698 - val_kl_div: 17.6049\n",
      "Epoch 60/100\n",
      "8000/8000 [==============================] - 4s 479us/step - loss: 30.5474 - recon_loss: 48.1671 - kl_div: 17.6197 - val_loss: 31.5717 - val_recon_loss: 49.1197 - val_kl_div: 17.5480\n",
      "Epoch 61/100\n",
      "8000/8000 [==============================] - 4s 537us/step - loss: 30.4259 - recon_loss: 48.0508 - kl_div: 17.6249 - val_loss: 31.1573 - val_recon_loss: 48.7570 - val_kl_div: 17.5997\n",
      "Epoch 62/100\n",
      "8000/8000 [==============================] - 4s 463us/step - loss: 30.2106 - recon_loss: 47.8334 - kl_div: 17.6228 - val_loss: 31.1644 - val_recon_loss: 48.7398 - val_kl_div: 17.5753\n",
      "Epoch 63/100\n",
      "8000/8000 [==============================] - 4s 467us/step - loss: 30.2315 - recon_loss: 47.8573 - kl_div: 17.6258 - val_loss: 31.1840 - val_recon_loss: 48.8295 - val_kl_div: 17.6455\n",
      "Epoch 64/100\n",
      "8000/8000 [==============================] - 4s 541us/step - loss: 30.0939 - recon_loss: 47.7256 - kl_div: 17.6316 - val_loss: 31.0103 - val_recon_loss: 48.6141 - val_kl_div: 17.6037\n",
      "Epoch 65/100\n",
      "8000/8000 [==============================] - 4s 450us/step - loss: 29.9887 - recon_loss: 47.6071 - kl_div: 17.6185 - val_loss: 30.9393 - val_recon_loss: 48.5426 - val_kl_div: 17.6033\n",
      "Epoch 66/100\n",
      "8000/8000 [==============================] - 4s 455us/step - loss: 29.7770 - recon_loss: 47.3973 - kl_div: 17.6203 - val_loss: 30.4411 - val_recon_loss: 48.0075 - val_kl_div: 17.5665\n",
      "Epoch 67/100\n",
      "8000/8000 [==============================] - 4s 453us/step - loss: 29.7788 - recon_loss: 47.3926 - kl_div: 17.6138 - val_loss: 30.6193 - val_recon_loss: 48.2140 - val_kl_div: 17.5947\n",
      "Epoch 68/100\n",
      "8000/8000 [==============================] - 4s 544us/step - loss: 29.5107 - recon_loss: 47.1285 - kl_div: 17.6178 - val_loss: 30.7383 - val_recon_loss: 48.3460 - val_kl_div: 17.6078\n",
      "Epoch 69/100\n",
      "8000/8000 [==============================] - 4s 486us/step - loss: 29.6249 - recon_loss: 47.2396 - kl_div: 17.6147 - val_loss: 30.2861 - val_recon_loss: 47.8663 - val_kl_div: 17.5802\n",
      "Epoch 70/100\n",
      "8000/8000 [==============================] - 4s 510us/step - loss: 29.4359 - recon_loss: 47.0430 - kl_div: 17.6071 - val_loss: 30.3605 - val_recon_loss: 47.9060 - val_kl_div: 17.5456\n",
      "Epoch 71/100\n",
      "8000/8000 [==============================] - 4s 454us/step - loss: 29.5257 - recon_loss: 47.1358 - kl_div: 17.6101 - val_loss: 30.7273 - val_recon_loss: 48.2899 - val_kl_div: 17.5626\n",
      "Epoch 72/100\n",
      "8000/8000 [==============================] - 4s 455us/step - loss: 29.3844 - recon_loss: 46.9937 - kl_div: 17.6093 - val_loss: 30.1524 - val_recon_loss: 47.6909 - val_kl_div: 17.5385\n",
      "Epoch 73/100\n",
      "8000/8000 [==============================] - 4s 506us/step - loss: 29.1574 - recon_loss: 46.7583 - kl_div: 17.6008 - val_loss: 30.5971 - val_recon_loss: 48.1624 - val_kl_div: 17.5653\n",
      "Epoch 74/100\n",
      "8000/8000 [==============================] - 4s 528us/step - loss: 29.1830 - recon_loss: 46.7890 - kl_div: 17.6060 - val_loss: 29.8231 - val_recon_loss: 47.4046 - val_kl_div: 17.5815\n",
      "Epoch 75/100\n",
      "8000/8000 [==============================] - 4s 475us/step - loss: 28.9152 - recon_loss: 46.5129 - kl_div: 17.5977 - val_loss: 29.8188 - val_recon_loss: 47.3746 - val_kl_div: 17.5558\n",
      "Epoch 76/100\n",
      "8000/8000 [==============================] - 5s 583us/step - loss: 29.0591 - recon_loss: 46.6525 - kl_div: 17.5934 - val_loss: 29.5336 - val_recon_loss: 47.1193 - val_kl_div: 17.5857\n",
      "Epoch 77/100\n",
      "8000/8000 [==============================] - 6s 702us/step - loss: 29.0206 - recon_loss: 46.6273 - kl_div: 17.6067 - val_loss: 29.8987 - val_recon_loss: 47.5201 - val_kl_div: 17.6213\n",
      "Epoch 78/100\n",
      "8000/8000 [==============================] - 4s 474us/step - loss: 28.9894 - recon_loss: 46.5872 - kl_div: 17.5978 - val_loss: 29.8225 - val_recon_loss: 47.3613 - val_kl_div: 17.5388\n",
      "Epoch 79/100\n",
      "8000/8000 [==============================] - 4s 455us/step - loss: 28.6892 - recon_loss: 46.2830 - kl_div: 17.5938 - val_loss: 29.5255 - val_recon_loss: 47.0635 - val_kl_div: 17.5380\n",
      "Epoch 80/100\n",
      "8000/8000 [==============================] - 4s 455us/step - loss: 28.6069 - recon_loss: 46.1976 - kl_div: 17.5908 - val_loss: 29.6455 - val_recon_loss: 47.2160 - val_kl_div: 17.5705\n",
      "Epoch 81/100\n",
      "8000/8000 [==============================] - 4s 455us/step - loss: 28.6185 - recon_loss: 46.2104 - kl_div: 17.5919 - val_loss: 29.2012 - val_recon_loss: 46.7471 - val_kl_div: 17.5459\n",
      "Epoch 82/100\n",
      "8000/8000 [==============================] - 4s 456us/step - loss: 28.5818 - recon_loss: 46.1631 - kl_div: 17.5812 - val_loss: 29.6274 - val_recon_loss: 47.2022 - val_kl_div: 17.5749\n",
      "Epoch 83/100\n",
      "8000/8000 [==============================] - 4s 462us/step - loss: 28.4354 - recon_loss: 46.0181 - kl_div: 17.5827 - val_loss: 28.9079 - val_recon_loss: 46.4754 - val_kl_div: 17.5675\n"
     ]
    },
    {
     "name": "stdout",
     "output_type": "stream",
     "text": [
      "Epoch 84/100\n",
      "8000/8000 [==============================] - 4s 452us/step - loss: 28.3396 - recon_loss: 45.9211 - kl_div: 17.5815 - val_loss: 29.5303 - val_recon_loss: 47.0959 - val_kl_div: 17.5656\n",
      "Epoch 85/100\n",
      "8000/8000 [==============================] - 4s 457us/step - loss: 28.2122 - recon_loss: 45.7755 - kl_div: 17.5633 - val_loss: 29.1655 - val_recon_loss: 46.7380 - val_kl_div: 17.5725\n",
      "Epoch 86/100\n",
      "8000/8000 [==============================] - 4s 466us/step - loss: 28.0925 - recon_loss: 45.6640 - kl_div: 17.5716 - val_loss: 28.7452 - val_recon_loss: 46.3097 - val_kl_div: 17.5645\n",
      "Epoch 87/100\n",
      "8000/8000 [==============================] - 4s 531us/step - loss: 28.0044 - recon_loss: 45.5618 - kl_div: 17.5574 - val_loss: 28.9139 - val_recon_loss: 46.4486 - val_kl_div: 17.5347\n",
      "Epoch 88/100\n",
      "8000/8000 [==============================] - 4s 555us/step - loss: 27.8777 - recon_loss: 45.4371 - kl_div: 17.5595 - val_loss: 28.8875 - val_recon_loss: 46.4152 - val_kl_div: 17.5277\n",
      "Epoch 89/100\n",
      "8000/8000 [==============================] - 4s 549us/step - loss: 27.7837 - recon_loss: 45.3434 - kl_div: 17.5597 - val_loss: 28.7056 - val_recon_loss: 46.2422 - val_kl_div: 17.5365\n",
      "Epoch 90/100\n",
      "8000/8000 [==============================] - 4s 457us/step - loss: 27.6592 - recon_loss: 45.2076 - kl_div: 17.5484 - val_loss: 28.8106 - val_recon_loss: 46.3328 - val_kl_div: 17.5221\n",
      "Epoch 91/100\n",
      "8000/8000 [==============================] - 4s 464us/step - loss: 27.3887 - recon_loss: 44.9341 - kl_div: 17.5454 - val_loss: 28.3583 - val_recon_loss: 45.8993 - val_kl_div: 17.5411\n",
      "Epoch 92/100\n",
      "8000/8000 [==============================] - 4s 454us/step - loss: 27.1964 - recon_loss: 44.7669 - kl_div: 17.5705 - val_loss: 28.1013 - val_recon_loss: 45.6487 - val_kl_div: 17.5474\n",
      "Epoch 93/100\n",
      "8000/8000 [==============================] - 4s 481us/step - loss: 27.0342 - recon_loss: 44.6184 - kl_div: 17.5842 - val_loss: 28.3051 - val_recon_loss: 45.8621 - val_kl_div: 17.5569\n",
      "Epoch 94/100\n",
      "8000/8000 [==============================] - 4s 490us/step - loss: 27.1009 - recon_loss: 44.6802 - kl_div: 17.5794 - val_loss: 27.9520 - val_recon_loss: 45.5243 - val_kl_div: 17.5723\n",
      "Epoch 95/100\n",
      "8000/8000 [==============================] - 4s 471us/step - loss: 26.9506 - recon_loss: 44.5359 - kl_div: 17.5852 - val_loss: 28.0786 - val_recon_loss: 45.6179 - val_kl_div: 17.5393\n",
      "Epoch 96/100\n",
      "8000/8000 [==============================] - 4s 458us/step - loss: 26.9790 - recon_loss: 44.5645 - kl_div: 17.5855 - val_loss: 27.8753 - val_recon_loss: 45.4233 - val_kl_div: 17.5480\n",
      "Epoch 97/100\n",
      "8000/8000 [==============================] - 4s 452us/step - loss: 26.7263 - recon_loss: 44.3104 - kl_div: 17.5841 - val_loss: 27.9900 - val_recon_loss: 45.5536 - val_kl_div: 17.5635\n",
      "Epoch 98/100\n",
      "8000/8000 [==============================] - 4s 470us/step - loss: 26.6947 - recon_loss: 44.2777 - kl_div: 17.5830 - val_loss: 27.7133 - val_recon_loss: 45.2648 - val_kl_div: 17.5515\n",
      "Epoch 99/100\n",
      "8000/8000 [==============================] - 4s 464us/step - loss: 26.7050 - recon_loss: 44.2942 - kl_div: 17.5893 - val_loss: 27.6929 - val_recon_loss: 45.2448 - val_kl_div: 17.5519\n",
      "Epoch 100/100\n",
      "8000/8000 [==============================] - 4s 452us/step - loss: 26.8739 - recon_loss: 44.4705 - kl_div: 17.5966 - val_loss: 27.6664 - val_recon_loss: 45.2412 - val_kl_div: 17.5748\n"
     ]
    }
   ],
   "source": [
    "# Callback for keras training\n",
    "class CustomCallback(keras.callbacks.Callback):\n",
    "    def on_train_begin(self, logs={}):\n",
    "        self.taus = []\n",
    "        self.kls = []\n",
    "\n",
    "    # update temperature after each epoch\n",
    "    def on_epoch_end(self, epoch, logs=None):\n",
    "#         K.set_value(tau, np.max([K.get_value(tau) * np.exp(- anneal_rate * epoch), min_temperature]))\n",
    "        K.set_value(tau, get_temp(max_temperature, min_temperature, nb_epochs, epoch))\n",
    "        self.taus.append( K.get_value(tau) )\n",
    "    \n",
    "    # save the KL divergence after each batch\n",
    "    def on_batch_end(self, batch, logs=None):\n",
    "        self.kls.append( logs[\"kl_div\"] )\n",
    "\n",
    "        \n",
    "# Evenly spaced temperatures between max and min temperature\n",
    "def get_temp(max_tau, min_tau, nb_points, point):\n",
    "    # TODO: wasteful to call linspace everytime, but just convenient during development (because nb_epochs changes)\n",
    "    return np.linspace(max_tau, min_tau, nb_points)[point]\n",
    "\n",
    "\n",
    "# Will contain list of temperature/tau values used during training\n",
    "custom_callback = CustomCallback()\n",
    "\n",
    "train_info = vae.fit(x_train, x_train, \n",
    "    shuffle=True, \n",
    "    epochs=nb_epochs, \n",
    "    batch_size=batch_size,\n",
    "    validation_data=(x_test, x_test),\n",
    "    callbacks=[custom_callback])"
   ]
  },
  {
   "cell_type": "code",
   "execution_count": 11,
   "metadata": {
    "scrolled": false
   },
   "outputs": [
    {
     "data": {
      "image/png": "[encoded data removed]",
      "text/plain": [
       "<matplotlib.figure.Figure at 0x1cb0d91bb38>"
      ]
     },
     "metadata": {},
     "output_type": "display_data"
    },
    {
     "data": {
      "image/png": "[encoded data removed]",
      "text/plain": [
       "<matplotlib.figure.Figure at 0x1cb0d945400>"
      ]
     },
     "metadata": {},
     "output_type": "display_data"
    },
    {
     "data": {
      "image/png": "[encoded data removed]",
      "text/plain": [
       "<matplotlib.figure.Figure at 0x1cb3e141dd8>"
      ]
     },
     "metadata": {},
     "output_type": "display_data"
    }
   ],
   "source": [
    "# extract the different metrics\n",
    "np_loss = np.asarray(train_info.history[\"loss\"])\n",
    "np_val_loss = np.asarray(train_info.history[\"val_loss\"])\n",
    "np_recon_loss = np.asarray(train_info.history[\"recon_loss\"])\n",
    "np_kl_div = np.asarray(train_info.history[\"kl_div\"])\n",
    "\n",
    "# Training vs validation loss\n",
    "t = range(nb_epochs)\n",
    "plt.plot(t, np_loss, 'b-', label=\"train\") \n",
    "plt.plot(t, np_val_loss, 'r-', label=\"val\")\n",
    "plt.title(\"Training vs Validation loss\")\n",
    "plt.xlabel(\"epochs\")\n",
    "plt.ylabel(\"loss\")\n",
    "plt.legend(loc='upper right')\n",
    "plt.show()\n",
    "\n",
    "# Temperature vs Loss\n",
    "t = custom_callback.taus\n",
    "plt.plot(np_loss, t, 'b-', label=\"train\") \n",
    "plt.title(\"Temperature vs Loss\")\n",
    "plt.xlabel(\"loss\")\n",
    "plt.ylabel(\"temperature\")\n",
    "plt.show()\n",
    "\n",
    "# KL divergence in the first couple of batches\n",
    "t = range(100)\n",
    "plt.plot(t, custom_callback.kls[:100], 'b-', label=\"Reconstruction\") \n",
    "plt.title(\"KL divergence in the first batches\")\n",
    "plt.xlabel(\"batches\")\n",
    "plt.ylabel(\"KL div\")\n",
    "plt.show()\n",
    "\n",
    "\n"
   ]
  },
  {
   "cell_type": "markdown",
   "metadata": {},
   "source": [
    "The KL divergence quickly stabilizes, probably because of the simple nature of the problem. It has stabilized already within the first epoch!"
   ]
  },
  {
   "cell_type": "markdown",
   "metadata": {},
   "source": [
    "## Save model weights"
   ]
  },
  {
   "cell_type": "code",
   "execution_count": 13,
   "metadata": {},
   "outputs": [],
   "source": [
    "# vae.save_weights('model_vae_weights.h5')"
   ]
  },
  {
   "cell_type": "markdown",
   "metadata": {},
   "source": [
    "# Visualize results"
   ]
  },
  {
   "cell_type": "code",
   "execution_count": 64,
   "metadata": {},
   "outputs": [
    {
     "data": {
      "text/plain": [
       "(<matplotlib.image.AxesImage at 0x17a0ab3f7b8>, (-0.5, 63.5, 63.5, -0.5))"
      ]
     },
     "execution_count": 64,
     "metadata": {},
     "output_type": "execute_result"
    },
    {
     "data": {
      "image/png": "[encoded data removed]",
      "text/plain": [
       "<matplotlib.figure.Figure at 0x17c2bdd0240>"
      ]
     },
     "metadata": {},
     "output_type": "display_data"
    }
   ],
   "source": [
    "test_idx = 180 # interesting images in the range: 160-190\n",
    "_batch = 300\n",
    "\n",
    "# get reconstructions, logits and sampled codes from a batch of the test set\n",
    "_x_hat, _logits, _z = vae_test.predict(x_test[:_batch])\n",
    "\n",
    "subplot(131)\n",
    "title(\"Input image\")\n",
    "imshow(x_test[test_idx].reshape(IMAGE_DIM), cmap='gray'), axis('off')\n",
    "\n",
    "subplot(132)\n",
    "title(\"sampled code\")\n",
    "imshow(_z[test_idx].reshape(N, M), cmap='gray'), axis('off')\n",
    "\n",
    "subplot(133)\n",
    "title(\"reconstruction\")\n",
    "imshow(_x_hat[test_idx].reshape(IMAGE_DIM), cmap='gray'), axis('off')"
   ]
  },
  {
   "cell_type": "markdown",
   "metadata": {},
   "source": [
    "The GumbelSoftmax approximation to a categorical distribution, is just that, an approximation. This means the sampled code will not always be categorical, i.e. more than one non-black field in each line. Executing the above cell multiple times can reveal this (depending on the trained network). Additionally, since the code is sampled it can also change slightly from execution to execution."
   ]
  },
  {
   "cell_type": "markdown",
   "metadata": {},
   "source": [
    "## Reconstructions"
   ]
  },
  {
   "cell_type": "code",
   "execution_count": 65,
   "metadata": {},
   "outputs": [
    {
     "name": "stdout",
     "output_type": "stream",
     "text": [
      "Top: Input images\n",
      "Bottom: Reconstructions\n"
     ]
    },
    {
     "data": {
      "image/png": "[encoded data removed]",
      "text/plain": [
       "<matplotlib.figure.Figure at 0x17c2ba5fac8>"
      ]
     },
     "metadata": {},
     "output_type": "display_data"
    }
   ],
   "source": [
    "from matplotlib.pyplot import figure\n",
    "fig = figure(num=None, figsize=(8, 2), dpi=80, facecolor='w', edgecolor='k')\n",
    "\n",
    "from matplotlib.pyplot import subplots_adjust\n",
    "subplots_adjust(wspace = 0.5, hspace=0)\n",
    "\n",
    "diverse_obs = [230, 200, 175, 170, 160, 100, 10]\n",
    "\n",
    "# COLUMN WISE\n",
    "rows = 2\n",
    "cols = len(diverse_obs)\n",
    "\n",
    "print(\"Top: Input images\\nBottom: Reconstructions\")\n",
    "for i, obs in enumerate(diverse_obs):\n",
    "    i += 1\n",
    "    subplot( rows, cols, i )\n",
    "    imshow(x_test[obs].reshape(IMAGE_DIM), cmap='gray'), axis('off')\n",
    "    \n",
    "    subplot( rows, cols, i+cols )\n",
    "    img_true = generator.predict(np.reshape(_z[obs], (1,-1)) )\n",
    "    imshow(img_true.reshape(IMAGE_DIM), cmap='gray'), axis('off')\n",
    "\n",
    "\n"
   ]
  },
  {
   "cell_type": "markdown",
   "metadata": {},
   "source": [
    "The reconstructions, although blurry, capture the essence of road curvature. Enough for an agent to conceiviably learn to stay on the road. "
   ]
  },
  {
   "cell_type": "markdown",
   "metadata": {},
   "source": [
    "# Interactive sample\n",
    "This contains sliders to manipulate a categorical sample, used to immediately generate a sample output image. Used for interactively exploring the latent representation (code)."
   ]
  },
  {
   "cell_type": "code",
   "execution_count": 66,
   "metadata": {
    "scrolled": false
   },
   "outputs": [
    {
     "data": {
      "application/vnd.jupyter.widget-view+json": {
       "model_id": "ab1720e593c848f090bd56cdb610c536",
       "version_major": 2,
       "version_minor": 0
      },
      "text/plain": [
       "interactive(children=(IntSlider(value=3, continuous_update=False, description='z5', max=5), IntSlider(value=3,…"
      ]
     },
     "metadata": {},
     "output_type": "display_data"
    }
   ],
   "source": [
    "%matplotlib inline\n",
    "from ipywidgets import interactive\n",
    "from ipywidgets import widgets\n",
    "from IPython.display import display\n",
    "img_code = np.zeros( (N,M) ) # init code image\n",
    "\n",
    "# The interactive function requires a widget element (slider) be assigned as a keyword argument, \n",
    "# matching the keyword parameters of the \"f\" function.\n",
    "# That is the reason for the rather unintuitive function declaration \"f\" and building the kw_dict (keyword dictionary)\n",
    "\n",
    "def f(*args,**kwargs):\n",
    "    for i, key in enumerate(kwargs):\n",
    "        zero_row = np.zeros((1,M))\n",
    "        zero_row[0, kwargs[key] ] = 1\n",
    "        img_code[i] = zero_row\n",
    "    \n",
    "    plt.subplot(121)\n",
    "    plt.imshow(img_code, cmap=\"gray\")\n",
    "    \n",
    "    plt.subplot(122)\n",
    "    img_binary = generator.predict(np.reshape(img_code, (1,-1)) )\n",
    "    plt.imshow(img_binary.reshape(IMAGE_DIM), cmap='gray')\n",
    "    plt.axis('off')\n",
    "\n",
    "\n",
    "kw_dict = {}\n",
    "for n in range(N):\n",
    "    kw_dict[\"z\"+str(n)] = widgets.IntSlider(description=\"z\"+str(n), min=0, max=(M-1), value=int(M/2), continuous_update=False)\n",
    "\n",
    "interactive_plot = interactive(f, **kw_dict)\n",
    "output = interactive_plot.children[-1]\n",
    "output.layout.height = '350px'\n",
    "interactive_plot"
   ]
  },
  {
   "cell_type": "markdown",
   "metadata": {},
   "source": [
    "It is clear from manipulating the individual sliders, that they are hard to interpret on their own. There is no disentangled representation, where each slider would represent a concept, like curvature of the road or similar.\n",
    "It is also clear that there are many non-meaningful states (combinations of slider values). But since the reconstructions from earlier look sufficient for learning the environment, is suggests that the number of necessary states is a very small subset of the possible $N \\times M$ states.\n"
   ]
  },
  {
   "cell_type": "markdown",
   "metadata": {},
   "source": [
    "# Conclusion\n",
    "\n",
    "Using the GumbelSoftmax approach, with the decreasing temperature parameter, can produce a (very) close to categorical distribution over the latent state. And with, what appears to be, sufficient reconstructions of the input images.\n",
    "The assumption is that a discrete state representation, as opposed to a continuous one, is easier for a reinforcement learning agent to learn. This will be explored the following notebook:  \n",
    "name link"
   ]
  }
 ],
 "metadata": {
  "kernelspec": {
   "display_name": "Python 3",
   "language": "python",
   "name": "python3"
  },
  "language_info": {
   "codemirror_mode": {
    "name": "ipython",
    "version": 3
   },
   "file_extension": ".py",
   "mimetype": "text/x-python",
   "name": "python",
   "nbconvert_exporter": "python",
   "pygments_lexer": "ipython3",
   "version": "3.6.5"
  }
 },
 "nbformat": 4,
 "nbformat_minor": 1
}
